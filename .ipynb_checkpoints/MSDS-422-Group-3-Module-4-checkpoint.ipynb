{
 "cells": [
  {
   "cell_type": "markdown",
   "id": "809bcd14",
   "metadata": {},
   "source": [
    "## Appendix 1 - Python Code and Outputs"
   ]
  },
  {
   "cell_type": "markdown",
   "id": "f91c1ded",
   "metadata": {},
   "source": [
    "### Data Preparation"
   ]
  },
  {
   "cell_type": "code",
   "execution_count": 2,
   "id": "8bac3939",
   "metadata": {},
   "outputs": [],
   "source": [
    "from IPython.core.interactiveshell import InteractiveShell\n",
    "InteractiveShell.ast_node_interactivity = \"all\""
   ]
  },
  {
   "cell_type": "markdown",
   "id": "9c2a86ee",
   "metadata": {},
   "source": [
    "### Import Data"
   ]
  },
  {
   "cell_type": "code",
   "execution_count": 3,
   "id": "4ace289b",
   "metadata": {
    "scrolled": true
   },
   "outputs": [
    {
     "data": {
      "text/html": [
       "<div>\n",
       "<style scoped>\n",
       "    .dataframe tbody tr th:only-of-type {\n",
       "        vertical-align: middle;\n",
       "    }\n",
       "\n",
       "    .dataframe tbody tr th {\n",
       "        vertical-align: top;\n",
       "    }\n",
       "\n",
       "    .dataframe thead th {\n",
       "        text-align: right;\n",
       "    }\n",
       "</style>\n",
       "<table border=\"1\" class=\"dataframe\">\n",
       "  <thead>\n",
       "    <tr style=\"text-align: right;\">\n",
       "      <th></th>\n",
       "      <th>PassengerId</th>\n",
       "      <th>Survived</th>\n",
       "      <th>Pclass</th>\n",
       "      <th>Name</th>\n",
       "      <th>Sex</th>\n",
       "      <th>Age</th>\n",
       "      <th>SibSp</th>\n",
       "      <th>Parch</th>\n",
       "      <th>Ticket</th>\n",
       "      <th>Fare</th>\n",
       "      <th>Cabin</th>\n",
       "      <th>Embarked</th>\n",
       "    </tr>\n",
       "  </thead>\n",
       "  <tbody>\n",
       "    <tr>\n",
       "      <th>0</th>\n",
       "      <td>1</td>\n",
       "      <td>0</td>\n",
       "      <td>3</td>\n",
       "      <td>Braund, Mr. Owen Harris</td>\n",
       "      <td>male</td>\n",
       "      <td>22.0</td>\n",
       "      <td>1</td>\n",
       "      <td>0</td>\n",
       "      <td>A/5 21171</td>\n",
       "      <td>7.2500</td>\n",
       "      <td>NaN</td>\n",
       "      <td>S</td>\n",
       "    </tr>\n",
       "    <tr>\n",
       "      <th>1</th>\n",
       "      <td>2</td>\n",
       "      <td>1</td>\n",
       "      <td>1</td>\n",
       "      <td>Cumings, Mrs. John Bradley (Florence Briggs Th...</td>\n",
       "      <td>female</td>\n",
       "      <td>38.0</td>\n",
       "      <td>1</td>\n",
       "      <td>0</td>\n",
       "      <td>PC 17599</td>\n",
       "      <td>71.2833</td>\n",
       "      <td>C85</td>\n",
       "      <td>C</td>\n",
       "    </tr>\n",
       "    <tr>\n",
       "      <th>2</th>\n",
       "      <td>3</td>\n",
       "      <td>1</td>\n",
       "      <td>3</td>\n",
       "      <td>Heikkinen, Miss. Laina</td>\n",
       "      <td>female</td>\n",
       "      <td>26.0</td>\n",
       "      <td>0</td>\n",
       "      <td>0</td>\n",
       "      <td>STON/O2. 3101282</td>\n",
       "      <td>7.9250</td>\n",
       "      <td>NaN</td>\n",
       "      <td>S</td>\n",
       "    </tr>\n",
       "    <tr>\n",
       "      <th>3</th>\n",
       "      <td>4</td>\n",
       "      <td>1</td>\n",
       "      <td>1</td>\n",
       "      <td>Futrelle, Mrs. Jacques Heath (Lily May Peel)</td>\n",
       "      <td>female</td>\n",
       "      <td>35.0</td>\n",
       "      <td>1</td>\n",
       "      <td>0</td>\n",
       "      <td>113803</td>\n",
       "      <td>53.1000</td>\n",
       "      <td>C123</td>\n",
       "      <td>S</td>\n",
       "    </tr>\n",
       "    <tr>\n",
       "      <th>4</th>\n",
       "      <td>5</td>\n",
       "      <td>0</td>\n",
       "      <td>3</td>\n",
       "      <td>Allen, Mr. William Henry</td>\n",
       "      <td>male</td>\n",
       "      <td>35.0</td>\n",
       "      <td>0</td>\n",
       "      <td>0</td>\n",
       "      <td>373450</td>\n",
       "      <td>8.0500</td>\n",
       "      <td>NaN</td>\n",
       "      <td>S</td>\n",
       "    </tr>\n",
       "    <tr>\n",
       "      <th>...</th>\n",
       "      <td>...</td>\n",
       "      <td>...</td>\n",
       "      <td>...</td>\n",
       "      <td>...</td>\n",
       "      <td>...</td>\n",
       "      <td>...</td>\n",
       "      <td>...</td>\n",
       "      <td>...</td>\n",
       "      <td>...</td>\n",
       "      <td>...</td>\n",
       "      <td>...</td>\n",
       "      <td>...</td>\n",
       "    </tr>\n",
       "    <tr>\n",
       "      <th>95</th>\n",
       "      <td>96</td>\n",
       "      <td>0</td>\n",
       "      <td>3</td>\n",
       "      <td>Shorney, Mr. Charles Joseph</td>\n",
       "      <td>male</td>\n",
       "      <td>NaN</td>\n",
       "      <td>0</td>\n",
       "      <td>0</td>\n",
       "      <td>374910</td>\n",
       "      <td>8.0500</td>\n",
       "      <td>NaN</td>\n",
       "      <td>S</td>\n",
       "    </tr>\n",
       "    <tr>\n",
       "      <th>96</th>\n",
       "      <td>97</td>\n",
       "      <td>0</td>\n",
       "      <td>1</td>\n",
       "      <td>Goldschmidt, Mr. George B</td>\n",
       "      <td>male</td>\n",
       "      <td>71.0</td>\n",
       "      <td>0</td>\n",
       "      <td>0</td>\n",
       "      <td>PC 17754</td>\n",
       "      <td>34.6542</td>\n",
       "      <td>A5</td>\n",
       "      <td>C</td>\n",
       "    </tr>\n",
       "    <tr>\n",
       "      <th>97</th>\n",
       "      <td>98</td>\n",
       "      <td>1</td>\n",
       "      <td>1</td>\n",
       "      <td>Greenfield, Mr. William Bertram</td>\n",
       "      <td>male</td>\n",
       "      <td>23.0</td>\n",
       "      <td>0</td>\n",
       "      <td>1</td>\n",
       "      <td>PC 17759</td>\n",
       "      <td>63.3583</td>\n",
       "      <td>D10 D12</td>\n",
       "      <td>C</td>\n",
       "    </tr>\n",
       "    <tr>\n",
       "      <th>98</th>\n",
       "      <td>99</td>\n",
       "      <td>1</td>\n",
       "      <td>2</td>\n",
       "      <td>Doling, Mrs. John T (Ada Julia Bone)</td>\n",
       "      <td>female</td>\n",
       "      <td>34.0</td>\n",
       "      <td>0</td>\n",
       "      <td>1</td>\n",
       "      <td>231919</td>\n",
       "      <td>23.0000</td>\n",
       "      <td>NaN</td>\n",
       "      <td>S</td>\n",
       "    </tr>\n",
       "    <tr>\n",
       "      <th>99</th>\n",
       "      <td>100</td>\n",
       "      <td>0</td>\n",
       "      <td>2</td>\n",
       "      <td>Kantor, Mr. Sinai</td>\n",
       "      <td>male</td>\n",
       "      <td>34.0</td>\n",
       "      <td>1</td>\n",
       "      <td>0</td>\n",
       "      <td>244367</td>\n",
       "      <td>26.0000</td>\n",
       "      <td>NaN</td>\n",
       "      <td>S</td>\n",
       "    </tr>\n",
       "  </tbody>\n",
       "</table>\n",
       "<p>100 rows × 12 columns</p>\n",
       "</div>"
      ],
      "text/plain": [
       "    PassengerId  Survived  Pclass  \\\n",
       "0             1         0       3   \n",
       "1             2         1       1   \n",
       "2             3         1       3   \n",
       "3             4         1       1   \n",
       "4             5         0       3   \n",
       "..          ...       ...     ...   \n",
       "95           96         0       3   \n",
       "96           97         0       1   \n",
       "97           98         1       1   \n",
       "98           99         1       2   \n",
       "99          100         0       2   \n",
       "\n",
       "                                                 Name     Sex   Age  SibSp  \\\n",
       "0                             Braund, Mr. Owen Harris    male  22.0      1   \n",
       "1   Cumings, Mrs. John Bradley (Florence Briggs Th...  female  38.0      1   \n",
       "2                              Heikkinen, Miss. Laina  female  26.0      0   \n",
       "3        Futrelle, Mrs. Jacques Heath (Lily May Peel)  female  35.0      1   \n",
       "4                            Allen, Mr. William Henry    male  35.0      0   \n",
       "..                                                ...     ...   ...    ...   \n",
       "95                        Shorney, Mr. Charles Joseph    male   NaN      0   \n",
       "96                          Goldschmidt, Mr. George B    male  71.0      0   \n",
       "97                    Greenfield, Mr. William Bertram    male  23.0      0   \n",
       "98               Doling, Mrs. John T (Ada Julia Bone)  female  34.0      0   \n",
       "99                                  Kantor, Mr. Sinai    male  34.0      1   \n",
       "\n",
       "    Parch            Ticket     Fare    Cabin Embarked  \n",
       "0       0         A/5 21171   7.2500      NaN        S  \n",
       "1       0          PC 17599  71.2833      C85        C  \n",
       "2       0  STON/O2. 3101282   7.9250      NaN        S  \n",
       "3       0            113803  53.1000     C123        S  \n",
       "4       0            373450   8.0500      NaN        S  \n",
       "..    ...               ...      ...      ...      ...  \n",
       "95      0            374910   8.0500      NaN        S  \n",
       "96      0          PC 17754  34.6542       A5        C  \n",
       "97      1          PC 17759  63.3583  D10 D12        C  \n",
       "98      1            231919  23.0000      NaN        S  \n",
       "99      0            244367  26.0000      NaN        S  \n",
       "\n",
       "[100 rows x 12 columns]"
      ]
     },
     "execution_count": 3,
     "metadata": {},
     "output_type": "execute_result"
    },
    {
     "data": {
      "text/plain": [
       "(891, 12)"
      ]
     },
     "execution_count": 3,
     "metadata": {},
     "output_type": "execute_result"
    }
   ],
   "source": [
    "import pandas as pd\n",
    "titanic_training_data = pd.read_csv('train.csv')\n",
    "\n",
    "# show first five rows of the data\n",
    "titanic_training_data.head(100)\n",
    "# show number of columns and rows\n",
    "titanic_training_data.shape"
   ]
  },
  {
   "cell_type": "markdown",
   "id": "f718d695",
   "metadata": {},
   "source": [
    "#### Variable Key Guide:\n",
    "\n",
    "| Variable name | Variable label | Variable value and value label | Variable type |\n",
    "| :-: | :-: | :-: | :-: |\n",
    "| PassengerID | Passenger ID | | Numerical |\n",
    "| Survived | Did the passenger survive? | 0 = No, 1 = Yes | Indicator, dichotomous |\n",
    "| Pclass | Ticket class | 1 = 1st, 2 = 2nd, 3 = 3rd | Categorical, or ordinal |\n",
    "| Name | Passenger name | | String |\n",
    "| Sex | Passenger's sex | Male, Female | Categorical or indicator |\n",
    "| Age | Passenger's age | | Numerical |\n",
    "| Sibsp | # of siblings / spouses aboard the Titanic | | Numerical | \n",
    "| Parch | # of parents / children aboard the Titanic | | Nmerical |\n",
    "| Ticket | Ticket number | | String |\n",
    "| Fare | Passenger fare | | Numerical, continuous |\n",
    "| Cabin | Cabin number | | Categorical |\n",
    "| Embarked | Port of embarkation | C = Cherbourg, Q = Queenstown, S = Southampton | Categorical |"
   ]
  },
  {
   "cell_type": "markdown",
   "id": "47dfb02b",
   "metadata": {},
   "source": [
    "### Exploratory Data Analysis"
   ]
  },
  {
   "cell_type": "markdown",
   "id": "1330f7dc",
   "metadata": {},
   "source": [
    "First, we can categorize each variable as either an indicator variable, multi-category categorical variable, or numeric variable.  Then we can proceed in our exploratory data analysis by constructing the appropriate visualization for each type of variable."
   ]
  },
  {
   "cell_type": "code",
   "execution_count": 4,
   "id": "f3795c77",
   "metadata": {},
   "outputs": [
    {
     "data": {
      "text/html": [
       "<div>\n",
       "<style scoped>\n",
       "    .dataframe tbody tr th:only-of-type {\n",
       "        vertical-align: middle;\n",
       "    }\n",
       "\n",
       "    .dataframe tbody tr th {\n",
       "        vertical-align: top;\n",
       "    }\n",
       "\n",
       "    .dataframe thead th {\n",
       "        text-align: right;\n",
       "    }\n",
       "</style>\n",
       "<table border=\"1\" class=\"dataframe\">\n",
       "  <thead>\n",
       "    <tr style=\"text-align: right;\">\n",
       "      <th></th>\n",
       "      <th>Age</th>\n",
       "      <th>Fare</th>\n",
       "      <th>SibSp</th>\n",
       "      <th>Parch</th>\n",
       "    </tr>\n",
       "  </thead>\n",
       "  <tbody>\n",
       "    <tr>\n",
       "      <th>count</th>\n",
       "      <td>714.000000</td>\n",
       "      <td>891.000000</td>\n",
       "      <td>891.000000</td>\n",
       "      <td>891.000000</td>\n",
       "    </tr>\n",
       "    <tr>\n",
       "      <th>mean</th>\n",
       "      <td>29.699118</td>\n",
       "      <td>32.204208</td>\n",
       "      <td>0.523008</td>\n",
       "      <td>0.381594</td>\n",
       "    </tr>\n",
       "    <tr>\n",
       "      <th>std</th>\n",
       "      <td>14.526497</td>\n",
       "      <td>49.693429</td>\n",
       "      <td>1.102743</td>\n",
       "      <td>0.806057</td>\n",
       "    </tr>\n",
       "    <tr>\n",
       "      <th>min</th>\n",
       "      <td>0.420000</td>\n",
       "      <td>0.000000</td>\n",
       "      <td>0.000000</td>\n",
       "      <td>0.000000</td>\n",
       "    </tr>\n",
       "    <tr>\n",
       "      <th>25%</th>\n",
       "      <td>20.125000</td>\n",
       "      <td>7.910400</td>\n",
       "      <td>0.000000</td>\n",
       "      <td>0.000000</td>\n",
       "    </tr>\n",
       "    <tr>\n",
       "      <th>50%</th>\n",
       "      <td>28.000000</td>\n",
       "      <td>14.454200</td>\n",
       "      <td>0.000000</td>\n",
       "      <td>0.000000</td>\n",
       "    </tr>\n",
       "    <tr>\n",
       "      <th>75%</th>\n",
       "      <td>38.000000</td>\n",
       "      <td>31.000000</td>\n",
       "      <td>1.000000</td>\n",
       "      <td>0.000000</td>\n",
       "    </tr>\n",
       "    <tr>\n",
       "      <th>max</th>\n",
       "      <td>80.000000</td>\n",
       "      <td>512.329200</td>\n",
       "      <td>8.000000</td>\n",
       "      <td>6.000000</td>\n",
       "    </tr>\n",
       "  </tbody>\n",
       "</table>\n",
       "</div>"
      ],
      "text/plain": [
       "              Age        Fare       SibSp       Parch\n",
       "count  714.000000  891.000000  891.000000  891.000000\n",
       "mean    29.699118   32.204208    0.523008    0.381594\n",
       "std     14.526497   49.693429    1.102743    0.806057\n",
       "min      0.420000    0.000000    0.000000    0.000000\n",
       "25%     20.125000    7.910400    0.000000    0.000000\n",
       "50%     28.000000   14.454200    0.000000    0.000000\n",
       "75%     38.000000   31.000000    1.000000    0.000000\n",
       "max     80.000000  512.329200    8.000000    6.000000"
      ]
     },
     "execution_count": 4,
     "metadata": {},
     "output_type": "execute_result"
    },
    {
     "data": {
      "text/plain": [
       "array([[<AxesSubplot:title={'center':'Age'}>,\n",
       "        <AxesSubplot:title={'center':'Fare'}>],\n",
       "       [<AxesSubplot:title={'center':'SibSp'}>,\n",
       "        <AxesSubplot:title={'center':'Parch'}>]], dtype=object)"
      ]
     },
     "execution_count": 4,
     "metadata": {},
     "output_type": "execute_result"
    },
    {
     "data": {
      "text/plain": [
       "<seaborn.axisgrid.FacetGrid at 0x2338814fc70>"
      ]
     },
     "execution_count": 4,
     "metadata": {},
     "output_type": "execute_result"
    },
    {
     "data": {
      "text/plain": [
       "<AxesSubplot:title={'center':'Pclass'}>"
      ]
     },
     "execution_count": 4,
     "metadata": {},
     "output_type": "execute_result"
    },
    {
     "data": {
      "text/plain": [
       "<AxesSubplot:title={'center':'Embarked'}>"
      ]
     },
     "execution_count": 4,
     "metadata": {},
     "output_type": "execute_result"
    },
    {
     "data": {
      "text/plain": [
       "<AxesSubplot:title={'center':'Cabin'}>"
      ]
     },
     "execution_count": 4,
     "metadata": {},
     "output_type": "execute_result"
    },
    {
     "data": {
      "text/plain": [
       "<AxesSubplot:title={'center':'Sex'}>"
      ]
     },
     "execution_count": 4,
     "metadata": {},
     "output_type": "execute_result"
    },
    {
     "data": {
      "image/png": "[encoded data removed]",
      "text/plain": [
       "<Figure size 1500x1000 with 4 Axes>"
      ]
     },
     "metadata": {},
     "output_type": "display_data"
    },
    {
     "data": {
      "image/png": "[encoded data removed]",
      "text/plain": [
       "<Figure size 500x500 with 1 Axes>"
      ]
     },
     "metadata": {},
     "output_type": "display_data"
    },
    {
     "data": {
      "image/png": "[encoded data removed]",
      "text/plain": [
       "<Figure size 1500x1500 with 4 Axes>"
      ]
     },
     "metadata": {},
     "output_type": "display_data"
    }
   ],
   "source": [
    "import seaborn as sns\n",
    "import matplotlib.pyplot as plt\n",
    "import numpy as np\n",
    "\n",
    "numeric_variables = ['Age', 'Fare', 'SibSp', 'Parch']\n",
    "\n",
    "indicator_variables = ['Survived']\n",
    "\n",
    "categorical_variables = ['Pclass', 'Embarked', 'Cabin', 'Sex']\n",
    "\n",
    "# Numeric Variable Visualizations\n",
    "titanic_training_data[numeric_variables].describe()\n",
    "\n",
    "titanic_training_data[numeric_variables].hist(edgecolor = 'black', \n",
    "                                             bins = 15, figsize = (15, 10),\n",
    "                                             layout = (2, 2), grid = False)\n",
    "\n",
    "\n",
    "# Indicator Variable Visualizations\n",
    "sns.catplot(x = 'Survived', kind = 'count', data = titanic_training_data)\n",
    "\n",
    "\n",
    "# Categorical Variable Visualizations\n",
    "fig, ax = plt.subplots(2, 2, figsize = (15, 15))\n",
    "for var, subplot in zip(categorical_variables, ax.flatten()):\n",
    "    titanic_training_data[var].value_counts().plot(kind = 'bar', ax = subplot, title = var)\n",
    "\n",
    "fig.tight_layout()\n",
    "\n",
    "\n",
    "\n"
   ]
  },
  {
   "cell_type": "markdown",
   "id": "0dc0662e",
   "metadata": {},
   "source": [
    "### Investigation of Missing Data and Outliers"
   ]
  },
  {
   "cell_type": "code",
   "execution_count": 5,
   "id": "2291e035",
   "metadata": {},
   "outputs": [
    {
     "data": {
      "text/html": [
       "<div>\n",
       "<style scoped>\n",
       "    .dataframe tbody tr th:only-of-type {\n",
       "        vertical-align: middle;\n",
       "    }\n",
       "\n",
       "    .dataframe tbody tr th {\n",
       "        vertical-align: top;\n",
       "    }\n",
       "\n",
       "    .dataframe thead th {\n",
       "        text-align: right;\n",
       "    }\n",
       "</style>\n",
       "<table border=\"1\" class=\"dataframe\">\n",
       "  <thead>\n",
       "    <tr style=\"text-align: right;\">\n",
       "      <th></th>\n",
       "      <th>Missing Count</th>\n",
       "      <th>Percentage Missing</th>\n",
       "      <th>Column Type</th>\n",
       "    </tr>\n",
       "  </thead>\n",
       "  <tbody>\n",
       "    <tr>\n",
       "      <th>Cabin</th>\n",
       "      <td>687</td>\n",
       "      <td>77.104377</td>\n",
       "      <td>object</td>\n",
       "    </tr>\n",
       "    <tr>\n",
       "      <th>Age</th>\n",
       "      <td>177</td>\n",
       "      <td>19.865320</td>\n",
       "      <td>float64</td>\n",
       "    </tr>\n",
       "    <tr>\n",
       "      <th>Embarked</th>\n",
       "      <td>2</td>\n",
       "      <td>0.224467</td>\n",
       "      <td>object</td>\n",
       "    </tr>\n",
       "  </tbody>\n",
       "</table>\n",
       "</div>"
      ],
      "text/plain": [
       "          Missing Count  Percentage Missing Column Type\n",
       "Cabin               687           77.104377      object\n",
       "Age                 177           19.865320     float64\n",
       "Embarked              2            0.224467      object"
      ]
     },
     "execution_count": 5,
     "metadata": {},
     "output_type": "execute_result"
    }
   ],
   "source": [
    "# find null counts, percentage of null values, and column type\n",
    "null_count = titanic_training_data.isnull().sum()\n",
    "null_percentage = titanic_training_data.isnull().sum() * 100 / len(titanic_training_data)\n",
    "column_type = titanic_training_data.dtypes\n",
    "\n",
    "# show null counts, percentage of null values, and column type for columns with more than one Null value\n",
    "null_summary = pd.concat([null_count, null_percentage, column_type], axis=1, keys=['Missing Count', 'Percentage Missing','Column Type'])\n",
    "null_summary_only_missing = null_summary[null_count != 0].sort_values('Percentage Missing',ascending=False)\n",
    "null_summary_only_missing"
   ]
  },
  {
   "cell_type": "markdown",
   "id": "66a5cc9d",
   "metadata": {},
   "source": [
    "Let's address the missing data appropriately in a new dataframe that we'll name titanic_training_data_cleaned."
   ]
  },
  {
   "cell_type": "code",
   "execution_count": 6,
   "id": "162ea2ae",
   "metadata": {},
   "outputs": [],
   "source": [
    "# Create a new dataframe called titanic_training_data_cleaned so we don't modify the originally imported data\n",
    "titanic_training_data_cleaned = titanic_training_data.copy(deep=True)\n",
    "\n",
    "# change Null values to the most common value (S) for Embarked \n",
    "titanic_training_data_cleaned['Embarked'].fillna('S', inplace=True)\n",
    "\n",
    "# fill Nulls for Age with median value\n",
    "titanic_training_data_cleaned['Age'].fillna(titanic_training_data_cleaned['Age'].median(), inplace=True)\n",
    "\n",
    "# Create new cabin-related variables that will be more useful and cleaner than the original cabin variable\n",
    "titanic_training_data_cleaned['Cabin_Data_Indicator'] = titanic_training_data_cleaned['Cabin'].notna().astype(int)\n",
    "\n",
    "titanic_training_data_cleaned['First_Cabin_Deck'] = np.where(titanic_training_data_cleaned['Cabin_Data_Indicator'] == 1,\n",
    "                                                             titanic_training_data_cleaned['Cabin'].astype(str).str[0],\n",
    "                                                             'None')\n",
    "\n",
    "# Create a new variable indicating whether a passenger is a child\n",
    "titanic_training_data_cleaned['Child_Indicator'] = titanic_training_data_cleaned['Age'] <= 17\n",
    "titanic_training_data_cleaned['Child_Indicator'] = titanic_training_data_cleaned['Child_Indicator'].astype(int)\n",
    "\n",
    "\n",
    "# Theoretically we could create a new variable for cabin number here if we're interested in that\n",
    "# Time permitting, maybe I will circle back to work on that some more, but for now I'm moving on to focus on more\n",
    "# important pieces of this assignment - especially since intuitively I don't think cabin number should make a huge\n",
    "# difference for survival rates\n",
    "\n",
    "# There also could be value in creating a variable about marriage status based on whether the names contain \"Miss\" or \"Mrs\"\n",
    "# But we can circle back to that if we have time I think\n",
    "\n",
    "# Drop the original Cabin variable since it has so many null values and since some passengers had more than one cabin\n",
    "# making the original variable difficult to work with\n",
    "titanic_training_data_cleaned.drop(['Cabin'],axis=1,inplace=True)"
   ]
  },
  {
   "cell_type": "code",
   "execution_count": 12,
   "id": "7f96ed0d",
   "metadata": {},
   "outputs": [
    {
     "data": {
      "text/plain": [
       "0    549\n",
       "1    342\n",
       "Name: Survived, dtype: int64"
      ]
     },
     "execution_count": 12,
     "metadata": {},
     "output_type": "execute_result"
    }
   ],
   "source": [
    "titanic_training_data_cleaned['Survived'].value_counts()"
   ]
  },
  {
   "cell_type": "markdown",
   "id": "e2cb369d",
   "metadata": {},
   "source": [
    "Check the distributions of the variables in the newly cleaned dataframe.  Also, check for missing values in this new dataframe."
   ]
  },
  {
   "cell_type": "code",
   "execution_count": 6,
   "id": "a107d815",
   "metadata": {
    "scrolled": true
   },
   "outputs": [
    {
     "data": {
      "text/html": [
       "<div>\n",
       "<style scoped>\n",
       "    .dataframe tbody tr th:only-of-type {\n",
       "        vertical-align: middle;\n",
       "    }\n",
       "\n",
       "    .dataframe tbody tr th {\n",
       "        vertical-align: top;\n",
       "    }\n",
       "\n",
       "    .dataframe thead th {\n",
       "        text-align: right;\n",
       "    }\n",
       "</style>\n",
       "<table border=\"1\" class=\"dataframe\">\n",
       "  <thead>\n",
       "    <tr style=\"text-align: right;\">\n",
       "      <th></th>\n",
       "      <th>PassengerId</th>\n",
       "      <th>Survived</th>\n",
       "      <th>Pclass</th>\n",
       "      <th>Name</th>\n",
       "      <th>Sex</th>\n",
       "      <th>Age</th>\n",
       "      <th>SibSp</th>\n",
       "      <th>Parch</th>\n",
       "      <th>Ticket</th>\n",
       "      <th>Fare</th>\n",
       "      <th>Embarked</th>\n",
       "      <th>Cabin_Data_Indicator</th>\n",
       "      <th>First_Cabin_Deck</th>\n",
       "      <th>Child_Indicator</th>\n",
       "    </tr>\n",
       "  </thead>\n",
       "  <tbody>\n",
       "    <tr>\n",
       "      <th>0</th>\n",
       "      <td>1</td>\n",
       "      <td>0</td>\n",
       "      <td>3</td>\n",
       "      <td>Braund, Mr. Owen Harris</td>\n",
       "      <td>male</td>\n",
       "      <td>22.0</td>\n",
       "      <td>1</td>\n",
       "      <td>0</td>\n",
       "      <td>A/5 21171</td>\n",
       "      <td>7.2500</td>\n",
       "      <td>S</td>\n",
       "      <td>0</td>\n",
       "      <td>None</td>\n",
       "      <td>0</td>\n",
       "    </tr>\n",
       "    <tr>\n",
       "      <th>1</th>\n",
       "      <td>2</td>\n",
       "      <td>1</td>\n",
       "      <td>1</td>\n",
       "      <td>Cumings, Mrs. John Bradley (Florence Briggs Th...</td>\n",
       "      <td>female</td>\n",
       "      <td>38.0</td>\n",
       "      <td>1</td>\n",
       "      <td>0</td>\n",
       "      <td>PC 17599</td>\n",
       "      <td>71.2833</td>\n",
       "      <td>C</td>\n",
       "      <td>1</td>\n",
       "      <td>C</td>\n",
       "      <td>0</td>\n",
       "    </tr>\n",
       "    <tr>\n",
       "      <th>2</th>\n",
       "      <td>3</td>\n",
       "      <td>1</td>\n",
       "      <td>3</td>\n",
       "      <td>Heikkinen, Miss. Laina</td>\n",
       "      <td>female</td>\n",
       "      <td>26.0</td>\n",
       "      <td>0</td>\n",
       "      <td>0</td>\n",
       "      <td>STON/O2. 3101282</td>\n",
       "      <td>7.9250</td>\n",
       "      <td>S</td>\n",
       "      <td>0</td>\n",
       "      <td>None</td>\n",
       "      <td>0</td>\n",
       "    </tr>\n",
       "    <tr>\n",
       "      <th>3</th>\n",
       "      <td>4</td>\n",
       "      <td>1</td>\n",
       "      <td>1</td>\n",
       "      <td>Futrelle, Mrs. Jacques Heath (Lily May Peel)</td>\n",
       "      <td>female</td>\n",
       "      <td>35.0</td>\n",
       "      <td>1</td>\n",
       "      <td>0</td>\n",
       "      <td>113803</td>\n",
       "      <td>53.1000</td>\n",
       "      <td>S</td>\n",
       "      <td>1</td>\n",
       "      <td>C</td>\n",
       "      <td>0</td>\n",
       "    </tr>\n",
       "    <tr>\n",
       "      <th>4</th>\n",
       "      <td>5</td>\n",
       "      <td>0</td>\n",
       "      <td>3</td>\n",
       "      <td>Allen, Mr. William Henry</td>\n",
       "      <td>male</td>\n",
       "      <td>35.0</td>\n",
       "      <td>0</td>\n",
       "      <td>0</td>\n",
       "      <td>373450</td>\n",
       "      <td>8.0500</td>\n",
       "      <td>S</td>\n",
       "      <td>0</td>\n",
       "      <td>None</td>\n",
       "      <td>0</td>\n",
       "    </tr>\n",
       "    <tr>\n",
       "      <th>5</th>\n",
       "      <td>6</td>\n",
       "      <td>0</td>\n",
       "      <td>3</td>\n",
       "      <td>Moran, Mr. James</td>\n",
       "      <td>male</td>\n",
       "      <td>28.0</td>\n",
       "      <td>0</td>\n",
       "      <td>0</td>\n",
       "      <td>330877</td>\n",
       "      <td>8.4583</td>\n",
       "      <td>Q</td>\n",
       "      <td>0</td>\n",
       "      <td>None</td>\n",
       "      <td>0</td>\n",
       "    </tr>\n",
       "    <tr>\n",
       "      <th>6</th>\n",
       "      <td>7</td>\n",
       "      <td>0</td>\n",
       "      <td>1</td>\n",
       "      <td>McCarthy, Mr. Timothy J</td>\n",
       "      <td>male</td>\n",
       "      <td>54.0</td>\n",
       "      <td>0</td>\n",
       "      <td>0</td>\n",
       "      <td>17463</td>\n",
       "      <td>51.8625</td>\n",
       "      <td>S</td>\n",
       "      <td>1</td>\n",
       "      <td>E</td>\n",
       "      <td>0</td>\n",
       "    </tr>\n",
       "    <tr>\n",
       "      <th>7</th>\n",
       "      <td>8</td>\n",
       "      <td>0</td>\n",
       "      <td>3</td>\n",
       "      <td>Palsson, Master. Gosta Leonard</td>\n",
       "      <td>male</td>\n",
       "      <td>2.0</td>\n",
       "      <td>3</td>\n",
       "      <td>1</td>\n",
       "      <td>349909</td>\n",
       "      <td>21.0750</td>\n",
       "      <td>S</td>\n",
       "      <td>0</td>\n",
       "      <td>None</td>\n",
       "      <td>1</td>\n",
       "    </tr>\n",
       "    <tr>\n",
       "      <th>8</th>\n",
       "      <td>9</td>\n",
       "      <td>1</td>\n",
       "      <td>3</td>\n",
       "      <td>Johnson, Mrs. Oscar W (Elisabeth Vilhelmina Berg)</td>\n",
       "      <td>female</td>\n",
       "      <td>27.0</td>\n",
       "      <td>0</td>\n",
       "      <td>2</td>\n",
       "      <td>347742</td>\n",
       "      <td>11.1333</td>\n",
       "      <td>S</td>\n",
       "      <td>0</td>\n",
       "      <td>None</td>\n",
       "      <td>0</td>\n",
       "    </tr>\n",
       "    <tr>\n",
       "      <th>9</th>\n",
       "      <td>10</td>\n",
       "      <td>1</td>\n",
       "      <td>2</td>\n",
       "      <td>Nasser, Mrs. Nicholas (Adele Achem)</td>\n",
       "      <td>female</td>\n",
       "      <td>14.0</td>\n",
       "      <td>1</td>\n",
       "      <td>0</td>\n",
       "      <td>237736</td>\n",
       "      <td>30.0708</td>\n",
       "      <td>C</td>\n",
       "      <td>0</td>\n",
       "      <td>None</td>\n",
       "      <td>1</td>\n",
       "    </tr>\n",
       "    <tr>\n",
       "      <th>10</th>\n",
       "      <td>11</td>\n",
       "      <td>1</td>\n",
       "      <td>3</td>\n",
       "      <td>Sandstrom, Miss. Marguerite Rut</td>\n",
       "      <td>female</td>\n",
       "      <td>4.0</td>\n",
       "      <td>1</td>\n",
       "      <td>1</td>\n",
       "      <td>PP 9549</td>\n",
       "      <td>16.7000</td>\n",
       "      <td>S</td>\n",
       "      <td>1</td>\n",
       "      <td>G</td>\n",
       "      <td>1</td>\n",
       "    </tr>\n",
       "    <tr>\n",
       "      <th>11</th>\n",
       "      <td>12</td>\n",
       "      <td>1</td>\n",
       "      <td>1</td>\n",
       "      <td>Bonnell, Miss. Elizabeth</td>\n",
       "      <td>female</td>\n",
       "      <td>58.0</td>\n",
       "      <td>0</td>\n",
       "      <td>0</td>\n",
       "      <td>113783</td>\n",
       "      <td>26.5500</td>\n",
       "      <td>S</td>\n",
       "      <td>1</td>\n",
       "      <td>C</td>\n",
       "      <td>0</td>\n",
       "    </tr>\n",
       "    <tr>\n",
       "      <th>12</th>\n",
       "      <td>13</td>\n",
       "      <td>0</td>\n",
       "      <td>3</td>\n",
       "      <td>Saundercock, Mr. William Henry</td>\n",
       "      <td>male</td>\n",
       "      <td>20.0</td>\n",
       "      <td>0</td>\n",
       "      <td>0</td>\n",
       "      <td>A/5. 2151</td>\n",
       "      <td>8.0500</td>\n",
       "      <td>S</td>\n",
       "      <td>0</td>\n",
       "      <td>None</td>\n",
       "      <td>0</td>\n",
       "    </tr>\n",
       "    <tr>\n",
       "      <th>13</th>\n",
       "      <td>14</td>\n",
       "      <td>0</td>\n",
       "      <td>3</td>\n",
       "      <td>Andersson, Mr. Anders Johan</td>\n",
       "      <td>male</td>\n",
       "      <td>39.0</td>\n",
       "      <td>1</td>\n",
       "      <td>5</td>\n",
       "      <td>347082</td>\n",
       "      <td>31.2750</td>\n",
       "      <td>S</td>\n",
       "      <td>0</td>\n",
       "      <td>None</td>\n",
       "      <td>0</td>\n",
       "    </tr>\n",
       "    <tr>\n",
       "      <th>14</th>\n",
       "      <td>15</td>\n",
       "      <td>0</td>\n",
       "      <td>3</td>\n",
       "      <td>Vestrom, Miss. Hulda Amanda Adolfina</td>\n",
       "      <td>female</td>\n",
       "      <td>14.0</td>\n",
       "      <td>0</td>\n",
       "      <td>0</td>\n",
       "      <td>350406</td>\n",
       "      <td>7.8542</td>\n",
       "      <td>S</td>\n",
       "      <td>0</td>\n",
       "      <td>None</td>\n",
       "      <td>1</td>\n",
       "    </tr>\n",
       "    <tr>\n",
       "      <th>15</th>\n",
       "      <td>16</td>\n",
       "      <td>1</td>\n",
       "      <td>2</td>\n",
       "      <td>Hewlett, Mrs. (Mary D Kingcome)</td>\n",
       "      <td>female</td>\n",
       "      <td>55.0</td>\n",
       "      <td>0</td>\n",
       "      <td>0</td>\n",
       "      <td>248706</td>\n",
       "      <td>16.0000</td>\n",
       "      <td>S</td>\n",
       "      <td>0</td>\n",
       "      <td>None</td>\n",
       "      <td>0</td>\n",
       "    </tr>\n",
       "    <tr>\n",
       "      <th>16</th>\n",
       "      <td>17</td>\n",
       "      <td>0</td>\n",
       "      <td>3</td>\n",
       "      <td>Rice, Master. Eugene</td>\n",
       "      <td>male</td>\n",
       "      <td>2.0</td>\n",
       "      <td>4</td>\n",
       "      <td>1</td>\n",
       "      <td>382652</td>\n",
       "      <td>29.1250</td>\n",
       "      <td>Q</td>\n",
       "      <td>0</td>\n",
       "      <td>None</td>\n",
       "      <td>1</td>\n",
       "    </tr>\n",
       "    <tr>\n",
       "      <th>17</th>\n",
       "      <td>18</td>\n",
       "      <td>1</td>\n",
       "      <td>2</td>\n",
       "      <td>Williams, Mr. Charles Eugene</td>\n",
       "      <td>male</td>\n",
       "      <td>28.0</td>\n",
       "      <td>0</td>\n",
       "      <td>0</td>\n",
       "      <td>244373</td>\n",
       "      <td>13.0000</td>\n",
       "      <td>S</td>\n",
       "      <td>0</td>\n",
       "      <td>None</td>\n",
       "      <td>0</td>\n",
       "    </tr>\n",
       "    <tr>\n",
       "      <th>18</th>\n",
       "      <td>19</td>\n",
       "      <td>0</td>\n",
       "      <td>3</td>\n",
       "      <td>Vander Planke, Mrs. Julius (Emelia Maria Vande...</td>\n",
       "      <td>female</td>\n",
       "      <td>31.0</td>\n",
       "      <td>1</td>\n",
       "      <td>0</td>\n",
       "      <td>345763</td>\n",
       "      <td>18.0000</td>\n",
       "      <td>S</td>\n",
       "      <td>0</td>\n",
       "      <td>None</td>\n",
       "      <td>0</td>\n",
       "    </tr>\n",
       "    <tr>\n",
       "      <th>19</th>\n",
       "      <td>20</td>\n",
       "      <td>1</td>\n",
       "      <td>3</td>\n",
       "      <td>Masselmani, Mrs. Fatima</td>\n",
       "      <td>female</td>\n",
       "      <td>28.0</td>\n",
       "      <td>0</td>\n",
       "      <td>0</td>\n",
       "      <td>2649</td>\n",
       "      <td>7.2250</td>\n",
       "      <td>C</td>\n",
       "      <td>0</td>\n",
       "      <td>None</td>\n",
       "      <td>0</td>\n",
       "    </tr>\n",
       "  </tbody>\n",
       "</table>\n",
       "</div>"
      ],
      "text/plain": [
       "    PassengerId  Survived  Pclass  \\\n",
       "0             1         0       3   \n",
       "1             2         1       1   \n",
       "2             3         1       3   \n",
       "3             4         1       1   \n",
       "4             5         0       3   \n",
       "5             6         0       3   \n",
       "6             7         0       1   \n",
       "7             8         0       3   \n",
       "8             9         1       3   \n",
       "9            10         1       2   \n",
       "10           11         1       3   \n",
       "11           12         1       1   \n",
       "12           13         0       3   \n",
       "13           14         0       3   \n",
       "14           15         0       3   \n",
       "15           16         1       2   \n",
       "16           17         0       3   \n",
       "17           18         1       2   \n",
       "18           19         0       3   \n",
       "19           20         1       3   \n",
       "\n",
       "                                                 Name     Sex   Age  SibSp  \\\n",
       "0                             Braund, Mr. Owen Harris    male  22.0      1   \n",
       "1   Cumings, Mrs. John Bradley (Florence Briggs Th...  female  38.0      1   \n",
       "2                              Heikkinen, Miss. Laina  female  26.0      0   \n",
       "3        Futrelle, Mrs. Jacques Heath (Lily May Peel)  female  35.0      1   \n",
       "4                            Allen, Mr. William Henry    male  35.0      0   \n",
       "5                                    Moran, Mr. James    male  28.0      0   \n",
       "6                             McCarthy, Mr. Timothy J    male  54.0      0   \n",
       "7                      Palsson, Master. Gosta Leonard    male   2.0      3   \n",
       "8   Johnson, Mrs. Oscar W (Elisabeth Vilhelmina Berg)  female  27.0      0   \n",
       "9                 Nasser, Mrs. Nicholas (Adele Achem)  female  14.0      1   \n",
       "10                    Sandstrom, Miss. Marguerite Rut  female   4.0      1   \n",
       "11                           Bonnell, Miss. Elizabeth  female  58.0      0   \n",
       "12                     Saundercock, Mr. William Henry    male  20.0      0   \n",
       "13                        Andersson, Mr. Anders Johan    male  39.0      1   \n",
       "14               Vestrom, Miss. Hulda Amanda Adolfina  female  14.0      0   \n",
       "15                   Hewlett, Mrs. (Mary D Kingcome)   female  55.0      0   \n",
       "16                               Rice, Master. Eugene    male   2.0      4   \n",
       "17                       Williams, Mr. Charles Eugene    male  28.0      0   \n",
       "18  Vander Planke, Mrs. Julius (Emelia Maria Vande...  female  31.0      1   \n",
       "19                            Masselmani, Mrs. Fatima  female  28.0      0   \n",
       "\n",
       "    Parch            Ticket     Fare Embarked  Cabin_Data_Indicator  \\\n",
       "0       0         A/5 21171   7.2500        S                     0   \n",
       "1       0          PC 17599  71.2833        C                     1   \n",
       "2       0  STON/O2. 3101282   7.9250        S                     0   \n",
       "3       0            113803  53.1000        S                     1   \n",
       "4       0            373450   8.0500        S                     0   \n",
       "5       0            330877   8.4583        Q                     0   \n",
       "6       0             17463  51.8625        S                     1   \n",
       "7       1            349909  21.0750        S                     0   \n",
       "8       2            347742  11.1333        S                     0   \n",
       "9       0            237736  30.0708        C                     0   \n",
       "10      1           PP 9549  16.7000        S                     1   \n",
       "11      0            113783  26.5500        S                     1   \n",
       "12      0         A/5. 2151   8.0500        S                     0   \n",
       "13      5            347082  31.2750        S                     0   \n",
       "14      0            350406   7.8542        S                     0   \n",
       "15      0            248706  16.0000        S                     0   \n",
       "16      1            382652  29.1250        Q                     0   \n",
       "17      0            244373  13.0000        S                     0   \n",
       "18      0            345763  18.0000        S                     0   \n",
       "19      0              2649   7.2250        C                     0   \n",
       "\n",
       "   First_Cabin_Deck  Child_Indicator  \n",
       "0              None                0  \n",
       "1                 C                0  \n",
       "2              None                0  \n",
       "3                 C                0  \n",
       "4              None                0  \n",
       "5              None                0  \n",
       "6                 E                0  \n",
       "7              None                1  \n",
       "8              None                0  \n",
       "9              None                1  \n",
       "10                G                1  \n",
       "11                C                0  \n",
       "12             None                0  \n",
       "13             None                0  \n",
       "14             None                1  \n",
       "15             None                0  \n",
       "16             None                1  \n",
       "17             None                0  \n",
       "18             None                0  \n",
       "19             None                0  "
      ]
     },
     "execution_count": 6,
     "metadata": {},
     "output_type": "execute_result"
    },
    {
     "data": {
      "text/plain": [
       "(891, 14)"
      ]
     },
     "execution_count": 6,
     "metadata": {},
     "output_type": "execute_result"
    }
   ],
   "source": [
    "# show first five rows of the data\n",
    "titanic_training_data_cleaned.head(20)\n",
    "# show number of columns and rows\n",
    "titanic_training_data_cleaned.shape"
   ]
  },
  {
   "cell_type": "markdown",
   "id": "ab6de414",
   "metadata": {},
   "source": [
    "#### Variable Key Guide:\n",
    "\n",
    "| Variable name | Variable label | Variable value and value label | Variable type |\n",
    "| :-: | :-: | :-: | :-: |\n",
    "| PassengerID | Passenger ID | | Numerical |\n",
    "| Survived | Did the passenger survive? | 0 = No, 1 = Yes | Indicator, dichotomous |\n",
    "| Pclass | Ticket class | 1 = 1st, 2 = 2nd, 3 = 3rd | Categorical |\n",
    "| Name | Passenger name | | String |\n",
    "| Sex | Passenger's sex | Male, Female | Categorical |\n",
    "| Age | Passenger's age | | Numerical |\n",
    "| Sibsp | # of siblings / spouses aboard the Titanic | | Numerical | \n",
    "| Parch | # of parents / children aboard the Titanic | | Nmerical |\n",
    "| Ticket | Ticket number | | String |\n",
    "| Fare | Passenger fare | | Numerical, continuous |\n",
    "| Embarked | Port of embarkation | C = Cherbourg, Q = Queenstown, S = Southampton | Categorical |\n",
    "| Cabin Data Indicator | Cabin number | | Indicator, dichotomuous |\n",
    "| First cabin deck | In first cabin class | | Categorical |\n",
    "| Child_indicator | Was a child, under 18 years old | | Indicator, dichotomuous |"
   ]
  },
  {
   "cell_type": "code",
   "execution_count": 7,
   "id": "caf21820",
   "metadata": {},
   "outputs": [
    {
     "data": {
      "text/html": [
       "<div>\n",
       "<style scoped>\n",
       "    .dataframe tbody tr th:only-of-type {\n",
       "        vertical-align: middle;\n",
       "    }\n",
       "\n",
       "    .dataframe tbody tr th {\n",
       "        vertical-align: top;\n",
       "    }\n",
       "\n",
       "    .dataframe thead th {\n",
       "        text-align: right;\n",
       "    }\n",
       "</style>\n",
       "<table border=\"1\" class=\"dataframe\">\n",
       "  <thead>\n",
       "    <tr style=\"text-align: right;\">\n",
       "      <th></th>\n",
       "      <th>Missing Count</th>\n",
       "      <th>Percentage Missing</th>\n",
       "      <th>Column Type</th>\n",
       "    </tr>\n",
       "  </thead>\n",
       "  <tbody>\n",
       "  </tbody>\n",
       "</table>\n",
       "</div>"
      ],
      "text/plain": [
       "Empty DataFrame\n",
       "Columns: [Missing Count, Percentage Missing, Column Type]\n",
       "Index: []"
      ]
     },
     "execution_count": 7,
     "metadata": {},
     "output_type": "execute_result"
    }
   ],
   "source": [
    "# find null counts, percentage of null values, and column type\n",
    "null_count = titanic_training_data_cleaned.isnull().sum()\n",
    "null_percentage = titanic_training_data_cleaned.isnull().sum() * 100 / len(titanic_training_data)\n",
    "column_type = titanic_training_data_cleaned.dtypes\n",
    "\n",
    "# show null counts, percentage of null values, and column type for columns with more than one Null value\n",
    "null_summary = pd.concat([null_count, null_percentage, column_type], axis=1, keys=['Missing Count', 'Percentage Missing','Column Type'])\n",
    "null_summary_only_missing = null_summary[null_count != 0].sort_values('Percentage Missing',ascending=False)\n",
    "null_summary_only_missing"
   ]
  },
  {
   "cell_type": "code",
   "execution_count": 8,
   "id": "bda19330",
   "metadata": {},
   "outputs": [
    {
     "data": {
      "text/html": [
       "<div>\n",
       "<style scoped>\n",
       "    .dataframe tbody tr th:only-of-type {\n",
       "        vertical-align: middle;\n",
       "    }\n",
       "\n",
       "    .dataframe tbody tr th {\n",
       "        vertical-align: top;\n",
       "    }\n",
       "\n",
       "    .dataframe thead th {\n",
       "        text-align: right;\n",
       "    }\n",
       "</style>\n",
       "<table border=\"1\" class=\"dataframe\">\n",
       "  <thead>\n",
       "    <tr style=\"text-align: right;\">\n",
       "      <th></th>\n",
       "      <th>Age</th>\n",
       "      <th>Fare</th>\n",
       "      <th>SibSp</th>\n",
       "      <th>Parch</th>\n",
       "    </tr>\n",
       "  </thead>\n",
       "  <tbody>\n",
       "    <tr>\n",
       "      <th>count</th>\n",
       "      <td>891.000000</td>\n",
       "      <td>891.000000</td>\n",
       "      <td>891.000000</td>\n",
       "      <td>891.000000</td>\n",
       "    </tr>\n",
       "    <tr>\n",
       "      <th>mean</th>\n",
       "      <td>29.361582</td>\n",
       "      <td>32.204208</td>\n",
       "      <td>0.523008</td>\n",
       "      <td>0.381594</td>\n",
       "    </tr>\n",
       "    <tr>\n",
       "      <th>std</th>\n",
       "      <td>13.019697</td>\n",
       "      <td>49.693429</td>\n",
       "      <td>1.102743</td>\n",
       "      <td>0.806057</td>\n",
       "    </tr>\n",
       "    <tr>\n",
       "      <th>min</th>\n",
       "      <td>0.420000</td>\n",
       "      <td>0.000000</td>\n",
       "      <td>0.000000</td>\n",
       "      <td>0.000000</td>\n",
       "    </tr>\n",
       "    <tr>\n",
       "      <th>25%</th>\n",
       "      <td>22.000000</td>\n",
       "      <td>7.910400</td>\n",
       "      <td>0.000000</td>\n",
       "      <td>0.000000</td>\n",
       "    </tr>\n",
       "    <tr>\n",
       "      <th>50%</th>\n",
       "      <td>28.000000</td>\n",
       "      <td>14.454200</td>\n",
       "      <td>0.000000</td>\n",
       "      <td>0.000000</td>\n",
       "    </tr>\n",
       "    <tr>\n",
       "      <th>75%</th>\n",
       "      <td>35.000000</td>\n",
       "      <td>31.000000</td>\n",
       "      <td>1.000000</td>\n",
       "      <td>0.000000</td>\n",
       "    </tr>\n",
       "    <tr>\n",
       "      <th>max</th>\n",
       "      <td>80.000000</td>\n",
       "      <td>512.329200</td>\n",
       "      <td>8.000000</td>\n",
       "      <td>6.000000</td>\n",
       "    </tr>\n",
       "  </tbody>\n",
       "</table>\n",
       "</div>"
      ],
      "text/plain": [
       "              Age        Fare       SibSp       Parch\n",
       "count  891.000000  891.000000  891.000000  891.000000\n",
       "mean    29.361582   32.204208    0.523008    0.381594\n",
       "std     13.019697   49.693429    1.102743    0.806057\n",
       "min      0.420000    0.000000    0.000000    0.000000\n",
       "25%     22.000000    7.910400    0.000000    0.000000\n",
       "50%     28.000000   14.454200    0.000000    0.000000\n",
       "75%     35.000000   31.000000    1.000000    0.000000\n",
       "max     80.000000  512.329200    8.000000    6.000000"
      ]
     },
     "execution_count": 8,
     "metadata": {},
     "output_type": "execute_result"
    },
    {
     "data": {
      "text/plain": [
       "array([[<Axes: title={'center': 'Age'}>,\n",
       "        <Axes: title={'center': 'Fare'}>],\n",
       "       [<Axes: title={'center': 'SibSp'}>,\n",
       "        <Axes: title={'center': 'Parch'}>]], dtype=object)"
      ]
     },
     "execution_count": 8,
     "metadata": {},
     "output_type": "execute_result"
    },
    {
     "data": {
      "text/plain": [
       "<seaborn.axisgrid.FacetGrid at 0x1bee0aaebe0>"
      ]
     },
     "execution_count": 8,
     "metadata": {},
     "output_type": "execute_result"
    },
    {
     "data": {
      "text/plain": [
       "<seaborn.axisgrid.FacetGrid at 0x1bee0c367c0>"
      ]
     },
     "execution_count": 8,
     "metadata": {},
     "output_type": "execute_result"
    },
    {
     "data": {
      "text/plain": [
       "<seaborn.axisgrid.FacetGrid at 0x1bede3bbbb0>"
      ]
     },
     "execution_count": 8,
     "metadata": {},
     "output_type": "execute_result"
    },
    {
     "data": {
      "text/plain": [
       "<Axes: title={'center': 'Pclass'}>"
      ]
     },
     "execution_count": 8,
     "metadata": {},
     "output_type": "execute_result"
    },
    {
     "data": {
      "text/plain": [
       "<Axes: title={'center': 'Embarked'}>"
      ]
     },
     "execution_count": 8,
     "metadata": {},
     "output_type": "execute_result"
    },
    {
     "data": {
      "text/plain": [
       "<Axes: title={'center': 'First_Cabin_Deck'}>"
      ]
     },
     "execution_count": 8,
     "metadata": {},
     "output_type": "execute_result"
    },
    {
     "data": {
      "text/plain": [
       "<Axes: title={'center': 'Sex'}>"
      ]
     },
     "execution_count": 8,
     "metadata": {},
     "output_type": "execute_result"
    },
    {
     "data": {
      "image/png": "[encoded data removed]",
      "text/plain": [
       "<Figure size 1080x720 with 4 Axes>"
      ]
     },
     "metadata": {
      "needs_background": "light"
     },
     "output_type": "display_data"
    },
    {
     "data": {
      "image/png": "[encoded data removed]",
      "text/plain": [
       "<Figure size 360x360 with 1 Axes>"
      ]
     },
     "metadata": {
      "needs_background": "light"
     },
     "output_type": "display_data"
    },
    {
     "data": {
      "image/png": "[encoded data removed]",
      "text/plain": [
       "<Figure size 360x360 with 1 Axes>"
      ]
     },
     "metadata": {
      "needs_background": "light"
     },
     "output_type": "display_data"
    },
    {
     "data": {
      "image/png": "[encoded data removed]",
      "text/plain": [
       "<Figure size 360x360 with 1 Axes>"
      ]
     },
     "metadata": {
      "needs_background": "light"
     },
     "output_type": "display_data"
    },
    {
     "data": {
      "image/png": "[encoded data removed]",
      "text/plain": [
       "<Figure size 1080x1080 with 4 Axes>"
      ]
     },
     "metadata": {
      "needs_background": "light"
     },
     "output_type": "display_data"
    }
   ],
   "source": [
    "# Update our definitions of the indicator, numeric, and categorical variables to reflect our newly created variables\n",
    "numeric_variables = ['Age', 'Fare', 'SibSp', 'Parch']\n",
    "\n",
    "indicator_variables = ['Survived', 'Cabin_Data_Indicator', 'Child_Indicator']\n",
    "\n",
    "categorical_variables = ['Pclass', 'Embarked', 'First_Cabin_Deck', 'Sex']\n",
    "\n",
    "# Numeric Variable Visualizations\n",
    "titanic_training_data_cleaned[numeric_variables].describe()\n",
    "\n",
    "titanic_training_data_cleaned[numeric_variables].hist(edgecolor = 'black', \n",
    "                                             bins = 15, figsize = (15, 10),\n",
    "                                             layout = (2, 2), grid = False)\n",
    "\n",
    "# Indicator Variable Visualizations\n",
    "\n",
    "for var, subplot in zip(indicator_variables, ax.flatten()):\n",
    "    sns.catplot(x = var, kind = 'count', data = titanic_training_data_cleaned)\n",
    "\n",
    "fig.tight_layout()\n",
    "\n",
    "    \n",
    "# Categorical Variable Visualizations\n",
    "fig, ax = plt.subplots(2, 2, figsize = (15, 15))\n",
    "for var, subplot in zip(categorical_variables, ax.flatten()):\n",
    "    titanic_training_data_cleaned[var].value_counts().plot(kind = 'bar', ax = subplot, title = var)\n",
    "\n",
    "fig.tight_layout()\n"
   ]
  },
  {
   "cell_type": "markdown",
   "id": "4796e05b",
   "metadata": {},
   "source": [
    "### Examination of the Relationship between the Dependent Variable and Potential Predictors"
   ]
  },
  {
   "cell_type": "markdown",
   "id": "712ca907",
   "metadata": {},
   "source": [
    "Let's create some visualizations to examine the relationship between potential predictors and our dependent variable."
   ]
  },
  {
   "cell_type": "code",
   "execution_count": 9,
   "id": "3afe5610",
   "metadata": {},
   "outputs": [
    {
     "data": {
      "text/plain": [
       "<Axes: xlabel='Survived', ylabel='Age'>"
      ]
     },
     "execution_count": 9,
     "metadata": {},
     "output_type": "execute_result"
    },
    {
     "data": {
      "text/plain": [
       "<Axes: xlabel='Survived', ylabel='Fare'>"
      ]
     },
     "execution_count": 9,
     "metadata": {},
     "output_type": "execute_result"
    },
    {
     "data": {
      "text/plain": [
       "<Axes: xlabel='Survived', ylabel='SibSp'>"
      ]
     },
     "execution_count": 9,
     "metadata": {},
     "output_type": "execute_result"
    },
    {
     "data": {
      "text/plain": [
       "<Axes: xlabel='Survived', ylabel='Parch'>"
      ]
     },
     "execution_count": 9,
     "metadata": {},
     "output_type": "execute_result"
    },
    {
     "data": {
      "text/plain": [
       "<seaborn.axisgrid.FacetGrid at 0x1bede4e3f70>"
      ]
     },
     "execution_count": 9,
     "metadata": {},
     "output_type": "execute_result"
    },
    {
     "data": {
      "text/plain": [
       "<seaborn.axisgrid.FacetGrid at 0x1bede4e3f70>"
      ]
     },
     "execution_count": 9,
     "metadata": {},
     "output_type": "execute_result"
    },
    {
     "data": {
      "text/plain": [
       "<seaborn.axisgrid.FacetGrid at 0x1bede57d610>"
      ]
     },
     "execution_count": 9,
     "metadata": {},
     "output_type": "execute_result"
    },
    {
     "data": {
      "text/plain": [
       "<seaborn.axisgrid.FacetGrid at 0x1bede57d610>"
      ]
     },
     "execution_count": 9,
     "metadata": {},
     "output_type": "execute_result"
    },
    {
     "data": {
      "text/plain": [
       "<seaborn.axisgrid.FacetGrid at 0x1bee1257220>"
      ]
     },
     "execution_count": 9,
     "metadata": {},
     "output_type": "execute_result"
    },
    {
     "data": {
      "text/plain": [
       "<seaborn.axisgrid.FacetGrid at 0x1bee1257220>"
      ]
     },
     "execution_count": 9,
     "metadata": {},
     "output_type": "execute_result"
    },
    {
     "data": {
      "text/plain": [
       "<seaborn.axisgrid.FacetGrid at 0x1bede4e3f70>"
      ]
     },
     "execution_count": 9,
     "metadata": {},
     "output_type": "execute_result"
    },
    {
     "data": {
      "text/plain": [
       "<seaborn.axisgrid.FacetGrid at 0x1bede4e3f70>"
      ]
     },
     "execution_count": 9,
     "metadata": {},
     "output_type": "execute_result"
    },
    {
     "data": {
      "text/plain": [
       "<seaborn.axisgrid.FacetGrid at 0x1bee08ff130>"
      ]
     },
     "execution_count": 9,
     "metadata": {},
     "output_type": "execute_result"
    },
    {
     "data": {
      "text/plain": [
       "<seaborn.axisgrid.FacetGrid at 0x1bee08ff130>"
      ]
     },
     "execution_count": 9,
     "metadata": {},
     "output_type": "execute_result"
    },
    {
     "data": {
      "text/plain": [
       "<seaborn.axisgrid.FacetGrid at 0x1bede57d610>"
      ]
     },
     "execution_count": 9,
     "metadata": {},
     "output_type": "execute_result"
    },
    {
     "data": {
      "text/plain": [
       "<seaborn.axisgrid.FacetGrid at 0x1bede57d610>"
      ]
     },
     "execution_count": 9,
     "metadata": {},
     "output_type": "execute_result"
    },
    {
     "data": {
      "text/plain": [
       "<seaborn.axisgrid.FacetGrid at 0x1bee0f82df0>"
      ]
     },
     "execution_count": 9,
     "metadata": {},
     "output_type": "execute_result"
    },
    {
     "data": {
      "text/plain": [
       "<seaborn.axisgrid.FacetGrid at 0x1bee0f82df0>"
      ]
     },
     "execution_count": 9,
     "metadata": {},
     "output_type": "execute_result"
    },
    {
     "data": {
      "image/png": "[encoded data removed]",
      "text/plain": [
       "<Figure size 792x792 with 4 Axes>"
      ]
     },
     "metadata": {
      "needs_background": "light"
     },
     "output_type": "display_data"
    },
    {
     "data": {
      "image/png": "[encoded data removed]",
      "text/plain": [
       "<Figure size 259.2x432 with 1 Axes>"
      ]
     },
     "metadata": {
      "needs_background": "light"
     },
     "output_type": "display_data"
    },
    {
     "data": {
      "image/png": "[encoded data removed]",
      "text/plain": [
       "<Figure size 259.2x432 with 1 Axes>"
      ]
     },
     "metadata": {
      "needs_background": "light"
     },
     "output_type": "display_data"
    },
    {
     "data": {
      "image/png": "[encoded data removed]",
      "text/plain": [
       "<Figure size 259.2x432 with 1 Axes>"
      ]
     },
     "metadata": {
      "needs_background": "light"
     },
     "output_type": "display_data"
    },
    {
     "data": {
      "image/png": "[encoded data removed]",
      "text/plain": [
       "<Figure size 259.2x432 with 1 Axes>"
      ]
     },
     "metadata": {
      "needs_background": "light"
     },
     "output_type": "display_data"
    },
    {
     "data": {
      "image/png": "[encoded data removed]",
      "text/plain": [
       "<Figure size 259.2x432 with 1 Axes>"
      ]
     },
     "metadata": {
      "needs_background": "light"
     },
     "output_type": "display_data"
    },
    {
     "data": {
      "image/png": "[encoded data removed]",
      "text/plain": [
       "<Figure size 259.2x432 with 1 Axes>"
      ]
     },
     "metadata": {
      "needs_background": "light"
     },
     "output_type": "display_data"
    },
    {
     "data": {
      "image/png": "[encoded data removed]",
      "text/plain": [
       "<Figure size 259.2x432 with 1 Axes>"
      ]
     },
     "metadata": {
      "needs_background": "light"
     },
     "output_type": "display_data"
    }
   ],
   "source": [
    "# Numeric Variable Visualizations\n",
    "\n",
    "fig, ax = plt.subplots(2, 2, figsize=(11, 11))\n",
    "\n",
    "for var, subplot in zip(numeric_variables, ax.flatten()):\n",
    "         sns.boxplot(x = 'Survived', y = var, data=titanic_training_data_cleaned, ax=subplot)\n",
    "\n",
    "fig.tight_layout()\n",
    "\n",
    "# Indicator Variable Visualizations\n",
    "\n",
    "for var, subplot in zip(indicator_variables, ax.flatten()):\n",
    "    g = sns.catplot(\n",
    "        data = titanic_training_data_cleaned, \n",
    "        x = var, \n",
    "        y = \"Survived\",\n",
    "        kind = \"bar\",\n",
    "        height = 6,\n",
    "        aspect = 0.6,\n",
    "        ci = None)\n",
    "\n",
    "    g.set_axis_labels(var, \"Proportion That Survived\")\n",
    "    g.set(ylim = (0,1))\n",
    "\n",
    "fig.tight_layout()\n",
    "\n",
    "\n",
    "\n",
    "# Categorical Variable Visualizations\n",
    "for var, subplot in zip(categorical_variables, ax.flatten()):\n",
    "    g = sns.catplot(\n",
    "        data = titanic_training_data_cleaned, \n",
    "        x = var, \n",
    "        y = \"Survived\",\n",
    "        kind = \"bar\",\n",
    "        height = 6,\n",
    "        aspect = 0.6,\n",
    "        ci = None)\n",
    "\n",
    "    g.set_axis_labels(var, \"Proportion That Survived\")\n",
    "    g.set(ylim = (0,1))\n",
    "\n",
    "fig.tight_layout()\n",
    "\n",
    "\n"
   ]
  },
  {
   "cell_type": "markdown",
   "id": "5dc7e9c2",
   "metadata": {},
   "source": [
    "### Logistic Regression"
   ]
  },
  {
   "cell_type": "markdown",
   "id": "5d471892",
   "metadata": {},
   "source": [
    "#### First let's examine the relationship between variables"
   ]
  },
  {
   "cell_type": "code",
   "execution_count": 10,
   "id": "99f9454d",
   "metadata": {},
   "outputs": [
    {
     "data": {
      "text/plain": [
       "<Axes: >"
      ]
     },
     "execution_count": 10,
     "metadata": {},
     "output_type": "execute_result"
    },
    {
     "data": {
      "image/png": "[encoded data removed]",
      "text/plain": [
       "<Figure size 360x360 with 2 Axes>"
      ]
     },
     "metadata": {
      "needs_background": "light"
     },
     "output_type": "display_data"
    }
   ],
   "source": [
    "titanic_correlations = titanic_training_data_cleaned\n",
    "correlations_training = titanic_correlations.corr()\n",
    "\n",
    "f, ax = plt.subplots(figsize = (5,5))\n",
    "sns.heatmap(correlations_training, vmax = 1, square = True, annot = True,\n",
    "           cmap = 'RdYlBu', linewidths = 0.5, fmt=\".1f\")"
   ]
  },
  {
   "cell_type": "code",
   "execution_count": 11,
   "id": "9007a7fd",
   "metadata": {},
   "outputs": [
    {
     "data": {
      "text/plain": [
       "<Axes: >"
      ]
     },
     "execution_count": 11,
     "metadata": {},
     "output_type": "execute_result"
    },
    {
     "data": {
      "image/png": "[encoded data removed]",
      "text/plain": [
       "<Figure size 360x360 with 2 Axes>"
      ]
     },
     "metadata": {
      "needs_background": "light"
     },
     "output_type": "display_data"
    }
   ],
   "source": [
    "titanic_correlations = titanic_training_data_cleaned[numeric_variables]\n",
    "correlations_training = titanic_correlations.corr()\n",
    "\n",
    "f, ax = plt.subplots(figsize = (5,5))\n",
    "sns.heatmap(correlations_training, vmax = 1, square = True, annot = True,\n",
    "           cmap = 'RdYlBu', linewidths = 0.5, fmt=\".1f\")"
   ]
  },
  {
   "cell_type": "markdown",
   "id": "95887bce",
   "metadata": {},
   "source": [
    "The Pearson correlations suggest that Pclass is strongly associated with Cabin_data_indicator. The following were moderately associated: 1) age and child_indicator, 2) fare and Pclass, and 3) fare and cabin_data_indicator.\n",
    "\n",
    "<i>Note: Moderately associated: .5 - .7, strongly associated: >.7</i>\n",
    "\n",
    "No variables were strongly or moderately associated with Survived. In fact, the Pearson correlation analysis suggested there were weak associations, and there may be no issues with multicollinearity among these variables. \n"
   ]
  },
  {
   "cell_type": "markdown",
   "id": "9a3d05fa",
   "metadata": {},
   "source": [
    "### Point Biserial correlations between Survived and continuous data"
   ]
  },
  {
   "cell_type": "code",
   "execution_count": 12,
   "id": "bb1f8fac",
   "metadata": {},
   "outputs": [
    {
     "name": "stdout",
     "output_type": "stream",
     "text": [
      "Point biserial correlation coefficient and p value for sale price and age:\n"
     ]
    },
    {
     "data": {
      "text/plain": [
       "SignificanceResult(statistic=-0.06491041993052588, pvalue=0.05276068847585567)"
      ]
     },
     "execution_count": 12,
     "metadata": {},
     "output_type": "execute_result"
    },
    {
     "name": "stdout",
     "output_type": "stream",
     "text": [
      "Point biserial correlation coefficient and p value for sale price and fare:\n"
     ]
    },
    {
     "data": {
      "text/plain": [
       "SignificanceResult(statistic=0.25730652238496243, pvalue=6.1201893419246185e-15)"
      ]
     },
     "execution_count": 12,
     "metadata": {},
     "output_type": "execute_result"
    },
    {
     "name": "stdout",
     "output_type": "stream",
     "text": [
      "Point biserial correlation coefficient and p value for sale price and Sibsp:\n"
     ]
    },
    {
     "data": {
      "text/plain": [
       "SignificanceResult(statistic=-0.03532249888573563, pvalue=0.29224392869829086)"
      ]
     },
     "execution_count": 12,
     "metadata": {},
     "output_type": "execute_result"
    },
    {
     "name": "stdout",
     "output_type": "stream",
     "text": [
      "Point biserial correlation coefficient and p value for sale price and Parch:\n"
     ]
    },
    {
     "data": {
      "text/plain": [
       "SignificanceResult(statistic=0.08162940708348347, pvalue=0.014799245374727947)"
      ]
     },
     "execution_count": 12,
     "metadata": {},
     "output_type": "execute_result"
    }
   ],
   "source": [
    "from scipy import stats\n",
    "\n",
    "#Point biserial correlation coefficient and p value for survived and age:\n",
    "corr1 = stats.pointbiserialr(titanic_training_data_cleaned.Survived, titanic_training_data_cleaned.Age)\n",
    "print(\"Point biserial correlation coefficient and p value for sale price and age:\")\n",
    "corr1\n",
    "#Point biserial correlation coefficient and p value for survived and fare:\n",
    "corr2 = stats.pointbiserialr(titanic_training_data_cleaned.Survived, titanic_training_data_cleaned.Fare)\n",
    "print(\"Point biserial correlation coefficient and p value for sale price and fare:\")\n",
    "corr2\n",
    "#Point biserial correlation coefficient and p value for survived and Sibsp:\n",
    "corr3 = stats.pointbiserialr(titanic_training_data_cleaned.Survived, titanic_training_data_cleaned.SibSp)\n",
    "print(\"Point biserial correlation coefficient and p value for sale price and Sibsp:\")\n",
    "corr3\n",
    "#Point biserial correlation coefficient and p value for survived and Parch:\n",
    "corr4 = stats.pointbiserialr(titanic_training_data_cleaned.Survived, titanic_training_data_cleaned.Parch)\n",
    "print(\"Point biserial correlation coefficient and p value for sale price and Parch:\")\n",
    "corr4"
   ]
  },
  {
   "cell_type": "markdown",
   "id": "d546730a",
   "metadata": {},
   "source": [
    "Given that the outcome of interest (Survived) is dichotomous, a series Point Biserial analyses were employed to examine associations between continuous IVs and the DV. As suggested by the series of Pearson correlations, Survived exhibited weak assocations with all continuous variables.  "
   ]
  },
  {
   "cell_type": "code",
   "execution_count": 13,
   "id": "b353bd7d",
   "metadata": {
    "scrolled": true
   },
   "outputs": [
    {
     "name": "stdout",
     "output_type": "stream",
     "text": [
      "  feature       VIF\n",
      "0     Age  1.436234\n",
      "1    Fare  1.532322\n",
      "2   SibSp  1.437732\n",
      "3   Parch  1.493068\n"
     ]
    },
    {
     "data": {
      "text/html": [
       "<div>\n",
       "<style scoped>\n",
       "    .dataframe tbody tr th:only-of-type {\n",
       "        vertical-align: middle;\n",
       "    }\n",
       "\n",
       "    .dataframe tbody tr th {\n",
       "        vertical-align: top;\n",
       "    }\n",
       "\n",
       "    .dataframe thead th {\n",
       "        text-align: right;\n",
       "    }\n",
       "</style>\n",
       "<table border=\"1\" class=\"dataframe\">\n",
       "  <thead>\n",
       "    <tr style=\"text-align: right;\">\n",
       "      <th></th>\n",
       "      <th>Age</th>\n",
       "      <th>Fare</th>\n",
       "      <th>SibSp</th>\n",
       "      <th>Parch</th>\n",
       "    </tr>\n",
       "  </thead>\n",
       "  <tbody>\n",
       "    <tr>\n",
       "      <th>Age</th>\n",
       "      <td>1.000000</td>\n",
       "      <td>0.096688</td>\n",
       "      <td>-0.233296</td>\n",
       "      <td>-0.172482</td>\n",
       "    </tr>\n",
       "    <tr>\n",
       "      <th>Fare</th>\n",
       "      <td>0.096688</td>\n",
       "      <td>1.000000</td>\n",
       "      <td>0.159651</td>\n",
       "      <td>0.216225</td>\n",
       "    </tr>\n",
       "    <tr>\n",
       "      <th>SibSp</th>\n",
       "      <td>-0.233296</td>\n",
       "      <td>0.159651</td>\n",
       "      <td>1.000000</td>\n",
       "      <td>0.414838</td>\n",
       "    </tr>\n",
       "    <tr>\n",
       "      <th>Parch</th>\n",
       "      <td>-0.172482</td>\n",
       "      <td>0.216225</td>\n",
       "      <td>0.414838</td>\n",
       "      <td>1.000000</td>\n",
       "    </tr>\n",
       "  </tbody>\n",
       "</table>\n",
       "</div>"
      ],
      "text/plain": [
       "            Age      Fare     SibSp     Parch\n",
       "Age    1.000000  0.096688 -0.233296 -0.172482\n",
       "Fare   0.096688  1.000000  0.159651  0.216225\n",
       "SibSp -0.233296  0.159651  1.000000  0.414838\n",
       "Parch -0.172482  0.216225  0.414838  1.000000"
      ]
     },
     "execution_count": 13,
     "metadata": {},
     "output_type": "execute_result"
    }
   ],
   "source": [
    "from statsmodels.stats.outliers_influence import variance_inflation_factor\n",
    "\n",
    "# the independent variables set\n",
    "x = titanic_training_data_cleaned[['Age', 'Fare', 'SibSp', 'Parch']]\n",
    "  \n",
    "# VIF dataframe\n",
    "vif_data = pd.DataFrame()\n",
    "vif_data[\"feature\"] = x.columns\n",
    "  \n",
    "# calculating VIF for each feature\n",
    "vif_data[\"VIF\"] = [variance_inflation_factor(x.values, i)\n",
    "                          for i in range(len(x.columns))]\n",
    "  \n",
    "print(vif_data)\n",
    "x.corr()"
   ]
  },
  {
   "cell_type": "markdown",
   "id": "bbd0bba1",
   "metadata": {},
   "source": [
    "An inspection of VIF values suggested that there was no evidence of multicollinearity present among continuous variables."
   ]
  },
  {
   "cell_type": "markdown",
   "id": "7e86ffd4",
   "metadata": {},
   "source": [
    "#### Further examination of the data grouping by Survived vs Died"
   ]
  },
  {
   "cell_type": "code",
   "execution_count": 14,
   "id": "336776b4",
   "metadata": {
    "scrolled": true
   },
   "outputs": [
    {
     "data": {
      "text/html": [
       "<div>\n",
       "<style scoped>\n",
       "    .dataframe tbody tr th:only-of-type {\n",
       "        vertical-align: middle;\n",
       "    }\n",
       "\n",
       "    .dataframe tbody tr th {\n",
       "        vertical-align: top;\n",
       "    }\n",
       "\n",
       "    .dataframe thead th {\n",
       "        text-align: right;\n",
       "    }\n",
       "</style>\n",
       "<table border=\"1\" class=\"dataframe\">\n",
       "  <thead>\n",
       "    <tr style=\"text-align: right;\">\n",
       "      <th></th>\n",
       "      <th>PassengerId</th>\n",
       "      <th>Pclass</th>\n",
       "      <th>Age</th>\n",
       "      <th>SibSp</th>\n",
       "      <th>Parch</th>\n",
       "      <th>Fare</th>\n",
       "      <th>Cabin_Data_Indicator</th>\n",
       "      <th>Child_Indicator</th>\n",
       "    </tr>\n",
       "    <tr>\n",
       "      <th>Survived</th>\n",
       "      <th></th>\n",
       "      <th></th>\n",
       "      <th></th>\n",
       "      <th></th>\n",
       "      <th></th>\n",
       "      <th></th>\n",
       "      <th></th>\n",
       "      <th></th>\n",
       "    </tr>\n",
       "  </thead>\n",
       "  <tbody>\n",
       "    <tr>\n",
       "      <th>0</th>\n",
       "      <td>447.016393</td>\n",
       "      <td>2.531876</td>\n",
       "      <td>30.028233</td>\n",
       "      <td>0.553734</td>\n",
       "      <td>0.329690</td>\n",
       "      <td>22.117887</td>\n",
       "      <td>0.123862</td>\n",
       "      <td>0.094718</td>\n",
       "    </tr>\n",
       "    <tr>\n",
       "      <th>1</th>\n",
       "      <td>444.368421</td>\n",
       "      <td>1.950292</td>\n",
       "      <td>28.291433</td>\n",
       "      <td>0.473684</td>\n",
       "      <td>0.464912</td>\n",
       "      <td>48.395408</td>\n",
       "      <td>0.397661</td>\n",
       "      <td>0.178363</td>\n",
       "    </tr>\n",
       "  </tbody>\n",
       "</table>\n",
       "</div>"
      ],
      "text/plain": [
       "          PassengerId    Pclass        Age     SibSp     Parch       Fare  \\\n",
       "Survived                                                                    \n",
       "0          447.016393  2.531876  30.028233  0.553734  0.329690  22.117887   \n",
       "1          444.368421  1.950292  28.291433  0.473684  0.464912  48.395408   \n",
       "\n",
       "          Cabin_Data_Indicator  Child_Indicator  \n",
       "Survived                                         \n",
       "0                     0.123862         0.094718  \n",
       "1                     0.397661         0.178363  "
      ]
     },
     "execution_count": 14,
     "metadata": {},
     "output_type": "execute_result"
    }
   ],
   "source": [
    "titanic_training_data_cleaned.groupby('Survived').mean()"
   ]
  },
  {
   "cell_type": "markdown",
   "id": "a6cc74b3",
   "metadata": {},
   "source": [
    "### Encode Embarked, Sex, and First Cabin Deck"
   ]
  },
  {
   "cell_type": "code",
   "execution_count": 15,
   "id": "9b8a2b1d",
   "metadata": {},
   "outputs": [
    {
     "name": "stderr",
     "output_type": "stream",
     "text": [
      "C:\\Users\\cmark\\anaconda3\\lib\\site-packages\\sklearn\\utils\\validation.py:63: DataConversionWarning: A column-vector y was passed when a 1d array was expected. Please change the shape of y to (n_samples, ), for example using ravel().\n",
      "  return f(*args, **kwargs)\n"
     ]
    },
    {
     "data": {
      "text/plain": [
       "LabelEncoder()"
      ]
     },
     "execution_count": 15,
     "metadata": {},
     "output_type": "execute_result"
    },
    {
     "data": {
      "text/plain": [
       "LabelEncoder()"
      ]
     },
     "execution_count": 15,
     "metadata": {},
     "output_type": "execute_result"
    },
    {
     "data": {
      "text/plain": [
       "LabelEncoder()"
      ]
     },
     "execution_count": 15,
     "metadata": {},
     "output_type": "execute_result"
    }
   ],
   "source": [
    "# Encode Embarked, Sex, and First Cabin Deck\n",
    "from sklearn import preprocessing\n",
    "le = preprocessing.LabelEncoder()\n",
    "\n",
    "# Embarked\n",
    "le.fit(np.array(titanic_training_data_cleaned['Embarked']).reshape(-1,1))\n",
    "titanic_training_data_cleaned['encoded_Embarked'] = le.transform(titanic_training_data_cleaned['Embarked'])\n",
    "\n",
    "# Cabin Deck\n",
    "le.fit(np.array(titanic_training_data_cleaned['First_Cabin_Deck']).reshape(-1,1))\n",
    "titanic_training_data_cleaned['encoded_FirstCabinDeck'] = le.transform(titanic_training_data_cleaned['First_Cabin_Deck'])\n",
    "\n",
    "# Sex\n",
    "le.fit(np.array(titanic_training_data_cleaned['Sex']).reshape(-1,1))\n",
    "titanic_training_data_cleaned['encoded_Sex'] = le.transform(titanic_training_data_cleaned['Sex'])\n",
    "\n",
    "Survived = titanic_training_data_cleaned['Survived'].to_list()\n",
    "classification_model_data = titanic_training_data_cleaned.drop(                                                            \n",
    "                                                               columns=['Sex','PassengerId', \n",
    "                                                                        'Survived','Name','Ticket',\n",
    "                                                                        'Embarked','First_Cabin_Deck',\n",
    "                                                                        'Age', 'SibSp', 'Fare', 'encoded_FirstCabinDeck',\n",
    "                                                                        'Parch', 'Cabin_Data_Indicator'\n",
    "                                                                       ])\n"
   ]
  },
  {
   "cell_type": "code",
   "execution_count": 16,
   "id": "d5728cf0",
   "metadata": {
    "scrolled": true
   },
   "outputs": [
    {
     "data": {
      "text/html": [
       "<div>\n",
       "<style scoped>\n",
       "    .dataframe tbody tr th:only-of-type {\n",
       "        vertical-align: middle;\n",
       "    }\n",
       "\n",
       "    .dataframe tbody tr th {\n",
       "        vertical-align: top;\n",
       "    }\n",
       "\n",
       "    .dataframe thead th {\n",
       "        text-align: right;\n",
       "    }\n",
       "</style>\n",
       "<table border=\"1\" class=\"dataframe\">\n",
       "  <thead>\n",
       "    <tr style=\"text-align: right;\">\n",
       "      <th></th>\n",
       "      <th>Pclass</th>\n",
       "      <th>Child_Indicator</th>\n",
       "      <th>encoded_Embarked</th>\n",
       "      <th>encoded_Sex</th>\n",
       "    </tr>\n",
       "  </thead>\n",
       "  <tbody>\n",
       "    <tr>\n",
       "      <th>0</th>\n",
       "      <td>3</td>\n",
       "      <td>0</td>\n",
       "      <td>2</td>\n",
       "      <td>1</td>\n",
       "    </tr>\n",
       "    <tr>\n",
       "      <th>1</th>\n",
       "      <td>1</td>\n",
       "      <td>0</td>\n",
       "      <td>0</td>\n",
       "      <td>0</td>\n",
       "    </tr>\n",
       "    <tr>\n",
       "      <th>2</th>\n",
       "      <td>3</td>\n",
       "      <td>0</td>\n",
       "      <td>2</td>\n",
       "      <td>0</td>\n",
       "    </tr>\n",
       "    <tr>\n",
       "      <th>3</th>\n",
       "      <td>1</td>\n",
       "      <td>0</td>\n",
       "      <td>2</td>\n",
       "      <td>0</td>\n",
       "    </tr>\n",
       "    <tr>\n",
       "      <th>4</th>\n",
       "      <td>3</td>\n",
       "      <td>0</td>\n",
       "      <td>2</td>\n",
       "      <td>1</td>\n",
       "    </tr>\n",
       "  </tbody>\n",
       "</table>\n",
       "</div>"
      ],
      "text/plain": [
       "   Pclass  Child_Indicator  encoded_Embarked  encoded_Sex\n",
       "0       3                0                 2            1\n",
       "1       1                0                 0            0\n",
       "2       3                0                 2            0\n",
       "3       1                0                 2            0\n",
       "4       3                0                 2            1"
      ]
     },
     "execution_count": 16,
     "metadata": {},
     "output_type": "execute_result"
    }
   ],
   "source": [
    "classification_model_data.head()"
   ]
  },
  {
   "cell_type": "markdown",
   "id": "aaf041cd",
   "metadata": {},
   "source": [
    "#### Dummy coding categorical variables"
   ]
  },
  {
   "cell_type": "code",
   "execution_count": 17,
   "id": "f045eaa8",
   "metadata": {
    "scrolled": false
   },
   "outputs": [
    {
     "data": {
      "text/plain": [
       "array(['Pclass', 'Child_Indicator', 'encoded_Sex', 'encoded_Embarked_0',\n",
       "       'encoded_Embarked_1', 'encoded_Embarked_2'], dtype=object)"
      ]
     },
     "execution_count": 17,
     "metadata": {},
     "output_type": "execute_result"
    }
   ],
   "source": [
    "cat_vars=['encoded_Embarked']\n",
    "\n",
    "for var in cat_vars:\n",
    "    cat_list='var'+'_'+var\n",
    "    cat_list = pd.get_dummies(classification_model_data[var], prefix=var)\n",
    "    classification_model_data=classification_model_data.join(cat_list)\n",
    "\n",
    "data_vars=classification_model_data.columns.values.tolist()\n",
    "to_keep=[i for i in data_vars if i not in cat_vars]\n",
    "\n",
    "data_final=classification_model_data[to_keep]\n",
    "data_final.columns.values\n"
   ]
  },
  {
   "cell_type": "code",
   "execution_count": 18,
   "id": "c6bd4eda",
   "metadata": {},
   "outputs": [],
   "source": [
    "classification_model_data = classification_model_data.drop(                                                            \n",
    "                                                               columns=['encoded_Embarked_0', 'encoded_Embarked'\n",
    "                                                                       ])"
   ]
  },
  {
   "cell_type": "markdown",
   "id": "62704748",
   "metadata": {},
   "source": [
    "### Logistic Regression"
   ]
  },
  {
   "cell_type": "code",
   "execution_count": 20,
   "id": "3c4e464b",
   "metadata": {
    "scrolled": true
   },
   "outputs": [
    {
     "name": "stdout",
     "output_type": "stream",
     "text": [
      "Optimization terminated successfully.\n",
      "         Current function value: 0.452127\n",
      "         Iterations 6\n",
      "                           Logit Regression Results                           \n",
      "==============================================================================\n",
      "Dep. Variable:                      y   No. Observations:                  891\n",
      "Model:                          Logit   Df Residuals:                      885\n",
      "Method:                           MLE   Df Model:                            5\n",
      "Date:                Sun, 23 Apr 2023   Pseudo R-squ.:                  0.3210\n",
      "Time:                        10:04:13   Log-Likelihood:                -402.85\n",
      "converged:                       True   LL-Null:                       -593.33\n",
      "Covariance Type:            nonrobust   LLR p-value:                 3.751e-80\n",
      "==============================================================================\n",
      "                 coef    std err          z      P>|z|      [0.025      0.975]\n",
      "------------------------------------------------------------------------------\n",
      "const         -0.6532      0.090     -7.249      0.000      -0.830      -0.477\n",
      "x1            -0.8589      0.097     -8.898      0.000      -1.048      -0.670\n",
      "x2             0.3360      0.088      3.818      0.000       0.163       0.508\n",
      "x3            -1.2361      0.089    -13.851      0.000      -1.411      -1.061\n",
      "x4             0.0027      0.103      0.027      0.979      -0.200       0.206\n",
      "x5            -0.2223      0.102     -2.172      0.030      -0.423      -0.022\n",
      "==============================================================================\n",
      "Accuracy Score: 0.7800224466891134\n"
     ]
    },
    {
     "data": {
      "text/plain": [
       "<sklearn.metrics._plot.confusion_matrix.ConfusionMatrixDisplay at 0x1bede42bf70>"
      ]
     },
     "execution_count": 20,
     "metadata": {},
     "output_type": "execute_result"
    },
    {
     "data": {
      "text/plain": [
       "Text(0.5, 1.0, 'Logistic ROC Curve')"
      ]
     },
     "execution_count": 20,
     "metadata": {},
     "output_type": "execute_result"
    },
    {
     "data": {
      "text/plain": [
       "Text(0.5, 1.0, 'Logistic Precision-Recall Curve')"
      ]
     },
     "execution_count": 20,
     "metadata": {},
     "output_type": "execute_result"
    },
    {
     "data": {
      "image/png": "[encoded data removed]",
      "text/plain": [
       "<Figure size 432x288 with 2 Axes>"
      ]
     },
     "metadata": {
      "needs_background": "light"
     },
     "output_type": "display_data"
    },
    {
     "data": {
      "image/png": "[encoded data removed]",
      "text/plain": [
       "<Figure size 432x288 with 1 Axes>"
      ]
     },
     "metadata": {
      "needs_background": "light"
     },
     "output_type": "display_data"
    },
    {
     "data": {
      "image/png": "[encoded data removed]",
      "text/plain": [
       "<Figure size 432x288 with 1 Axes>"
      ]
     },
     "metadata": {
      "needs_background": "light"
     },
     "output_type": "display_data"
    }
   ],
   "source": [
    "from scipy.signal._signaltools import _centered\n",
    "import statsmodels.api as sm\n",
    "from sklearn.preprocessing import StandardScaler\n",
    "from sklearn.metrics import accuracy_score\n",
    "\n",
    "# scale predictors\n",
    "scaler = StandardScaler()\n",
    "X = scaler.fit_transform(classification_model_data)\n",
    "\n",
    "# add constant\n",
    "X = sm.add_constant(X)\n",
    "\n",
    "# response\n",
    "y = Survived\n",
    "\n",
    "logit_model=sm.Logit(y,X)\n",
    "result=logit_model.fit()\n",
    "print(result.summary())\n",
    "probabilities = result.predict(X)\n",
    "\n",
    "# Convert probabilities to binary predictions using a 0.5 threshold\n",
    "y_pred = np.where(probabilities > 0.5, 1, 0)\n",
    "\n",
    "# Calculate the accuracy score\n",
    "acc_score = accuracy_score(y, y_pred)\n",
    "print(\"Accuracy Score:\", acc_score)\n",
    "\n",
    "# Confusion matrix\n",
    "\n",
    "from sklearn.metrics import confusion_matrix, ConfusionMatrixDisplay, roc_curve\n",
    "\n",
    "cm = confusion_matrix(y, y_pred)\n",
    "cm_logistic = cm\n",
    "disp = ConfusionMatrixDisplay(confusion_matrix=cm, display_labels=['Did not survive','Survived'])\n",
    "disp.plot()\n",
    "\n",
    "# Curves\n",
    "\n",
    "from sklearn.metrics import RocCurveDisplay\n",
    "from sklearn.metrics import precision_recall_curve\n",
    "from sklearn.metrics import PrecisionRecallDisplay\n",
    "\n",
    "\n",
    "fpr, tpr, _ = roc_curve(np.array(Survived), probabilities)\n",
    "roc_display = RocCurveDisplay(fpr=fpr, tpr=tpr).plot()\n",
    "plt.title('Logistic ROC Curve')\n",
    "\n",
    "prec, recall, _ = precision_recall_curve(Survived, probabilities)\n",
    "pr_display = PrecisionRecallDisplay(precision=prec, recall=recall).plot()\n",
    "plt.title('Logistic Precision-Recall Curve')"
   ]
  },
  {
   "cell_type": "markdown",
   "id": "458981e6",
   "metadata": {},
   "source": [
    "#### Logistic regression: Odds ratios"
   ]
  },
  {
   "cell_type": "code",
   "execution_count": 21,
   "id": "61be7f67",
   "metadata": {
    "scrolled": true
   },
   "outputs": [
    {
     "data": {
      "text/html": [
       "<div>\n",
       "<style scoped>\n",
       "    .dataframe tbody tr th:only-of-type {\n",
       "        vertical-align: middle;\n",
       "    }\n",
       "\n",
       "    .dataframe tbody tr th {\n",
       "        vertical-align: top;\n",
       "    }\n",
       "\n",
       "    .dataframe thead th {\n",
       "        text-align: right;\n",
       "    }\n",
       "</style>\n",
       "<table border=\"1\" class=\"dataframe\">\n",
       "  <thead>\n",
       "    <tr style=\"text-align: right;\">\n",
       "      <th></th>\n",
       "      <th>OR</th>\n",
       "      <th>z-value</th>\n",
       "      <th>2.5%</th>\n",
       "      <th>97.5%</th>\n",
       "    </tr>\n",
       "  </thead>\n",
       "  <tbody>\n",
       "    <tr>\n",
       "      <th>0</th>\n",
       "      <td>0.520372</td>\n",
       "      <td>4.196535e-13</td>\n",
       "      <td>0.436126</td>\n",
       "      <td>0.620891</td>\n",
       "    </tr>\n",
       "    <tr>\n",
       "      <th>1</th>\n",
       "      <td>0.423620</td>\n",
       "      <td>5.682098e-19</td>\n",
       "      <td>0.350599</td>\n",
       "      <td>0.511849</td>\n",
       "    </tr>\n",
       "    <tr>\n",
       "      <th>2</th>\n",
       "      <td>1.399275</td>\n",
       "      <td>1.345671e-04</td>\n",
       "      <td>1.177614</td>\n",
       "      <td>1.662660</td>\n",
       "    </tr>\n",
       "    <tr>\n",
       "      <th>3</th>\n",
       "      <td>0.290517</td>\n",
       "      <td>1.257526e-43</td>\n",
       "      <td>0.243897</td>\n",
       "      <td>0.346047</td>\n",
       "    </tr>\n",
       "    <tr>\n",
       "      <th>4</th>\n",
       "      <td>1.002751</td>\n",
       "      <td>9.788171e-01</td>\n",
       "      <td>0.818667</td>\n",
       "      <td>1.228229</td>\n",
       "    </tr>\n",
       "    <tr>\n",
       "      <th>5</th>\n",
       "      <td>0.800649</td>\n",
       "      <td>2.984026e-02</td>\n",
       "      <td>0.655117</td>\n",
       "      <td>0.978511</td>\n",
       "    </tr>\n",
       "  </tbody>\n",
       "</table>\n",
       "</div>"
      ],
      "text/plain": [
       "         OR       z-value      2.5%     97.5%\n",
       "0  0.520372  4.196535e-13  0.436126  0.620891\n",
       "1  0.423620  5.682098e-19  0.350599  0.511849\n",
       "2  1.399275  1.345671e-04  1.177614  1.662660\n",
       "3  0.290517  1.257526e-43  0.243897  0.346047\n",
       "4  1.002751  9.788171e-01  0.818667  1.228229\n",
       "5  0.800649  2.984026e-02  0.655117  0.978511"
      ]
     },
     "execution_count": 21,
     "metadata": {},
     "output_type": "execute_result"
    }
   ],
   "source": [
    "model_odds = pd.DataFrame(np.exp(result.params), columns= ['OR'])\n",
    "model_odds['z-value']= result.pvalues\n",
    "model_odds[['2.5%', '97.5%']] = np.exp(result.conf_int())\n",
    "\n",
    "model_odds"
   ]
  },
  {
   "cell_type": "markdown",
   "id": "e24c1e8f",
   "metadata": {},
   "source": [
    "* Coef. 1  Pclass, Passenger class: Passenger class was significantly, negatively associated with survival. Of note: interpretation of passenger class given the directionality and operationalization of Pclass suggests that those lower class status were less likely to survive. Those with a lower class status were 48% less likely to survive. \n",
    "\n",
    "* Coef. 2 Child_Indicator, binary variable indicating if a child: Being a child was significantly, positively associated with survival. Children on board were more likely to have survived. Children were 51% more likely to have survived compared to adults (anyone 18 years old or older). \n",
    "\n",
    "* Coef. 3 encoded_Sex, dichotomous variable where 1 = male, ref = female: Relative to women, being a man was significantly, negatively associated with survival. Men were less likely to have survived. Men were 72% less likely to have survived compared to women. \n",
    "\n",
    "* Coef. 4 encoded_Embarked_1, binary, embarked at S = Southampton and ref Q = Queenstown: Compared to those that embarked in Queenstown, embarking in Southampton was negatively associated with survival, though this association was non-siginificant.  There was a lower likelihood of survival for those that embarked at Southampton. Those that embarked at Southampton were 3% less likely to have survived. \n",
    "\n",
    "* Coef. 5 encoded_Embarked_2, binary, embarked at C = Cherbourg and ref Q = Queenstown: Similarly, embarking in Cherbourg was negatively associated with survival, and this association was also non-significant. There was a lower likelihood of survival for those that embarked at Cherbourg. Those that embarked at Cherbourg were 21% less likely to have survived. \n"
   ]
  },
  {
   "cell_type": "markdown",
   "id": "7225e18e",
   "metadata": {},
   "source": [
    "#### Logistic Assumption check: multicollinearity"
   ]
  },
  {
   "cell_type": "code",
   "execution_count": 22,
   "id": "7e8a9264",
   "metadata": {
    "scrolled": false
   },
   "outputs": [
    {
     "name": "stdout",
     "output_type": "stream",
     "text": [
      "              feature       VIF\n",
      "0              Pclass  5.975058\n",
      "1     Child_Indicator  1.187256\n",
      "2  encoded_Embarked_1  1.571048\n",
      "3  encoded_Embarked_2  4.224112\n",
      "4         encoded_Sex  2.779324\n"
     ]
    },
    {
     "data": {
      "text/html": [
       "<div>\n",
       "<style scoped>\n",
       "    .dataframe tbody tr th:only-of-type {\n",
       "        vertical-align: middle;\n",
       "    }\n",
       "\n",
       "    .dataframe tbody tr th {\n",
       "        vertical-align: top;\n",
       "    }\n",
       "\n",
       "    .dataframe thead th {\n",
       "        text-align: right;\n",
       "    }\n",
       "</style>\n",
       "<table border=\"1\" class=\"dataframe\">\n",
       "  <thead>\n",
       "    <tr style=\"text-align: right;\">\n",
       "      <th></th>\n",
       "      <th>Pclass</th>\n",
       "      <th>Child_Indicator</th>\n",
       "      <th>encoded_Embarked_1</th>\n",
       "      <th>encoded_Embarked_2</th>\n",
       "      <th>encoded_Sex</th>\n",
       "    </tr>\n",
       "  </thead>\n",
       "  <tbody>\n",
       "    <tr>\n",
       "      <th>Pclass</th>\n",
       "      <td>1.000000</td>\n",
       "      <td>0.125620</td>\n",
       "      <td>0.221009</td>\n",
       "      <td>0.074053</td>\n",
       "      <td>0.131900</td>\n",
       "    </tr>\n",
       "    <tr>\n",
       "      <th>Child_Indicator</th>\n",
       "      <td>0.125620</td>\n",
       "      <td>1.000000</td>\n",
       "      <td>-0.033194</td>\n",
       "      <td>0.000543</td>\n",
       "      <td>-0.107150</td>\n",
       "    </tr>\n",
       "    <tr>\n",
       "      <th>encoded_Embarked_1</th>\n",
       "      <td>0.221009</td>\n",
       "      <td>-0.033194</td>\n",
       "      <td>1.000000</td>\n",
       "      <td>-0.499421</td>\n",
       "      <td>-0.074115</td>\n",
       "    </tr>\n",
       "    <tr>\n",
       "      <th>encoded_Embarked_2</th>\n",
       "      <td>0.074053</td>\n",
       "      <td>0.000543</td>\n",
       "      <td>-0.499421</td>\n",
       "      <td>1.000000</td>\n",
       "      <td>0.119224</td>\n",
       "    </tr>\n",
       "    <tr>\n",
       "      <th>encoded_Sex</th>\n",
       "      <td>0.131900</td>\n",
       "      <td>-0.107150</td>\n",
       "      <td>-0.074115</td>\n",
       "      <td>0.119224</td>\n",
       "      <td>1.000000</td>\n",
       "    </tr>\n",
       "  </tbody>\n",
       "</table>\n",
       "</div>"
      ],
      "text/plain": [
       "                      Pclass  Child_Indicator  encoded_Embarked_1  \\\n",
       "Pclass              1.000000         0.125620            0.221009   \n",
       "Child_Indicator     0.125620         1.000000           -0.033194   \n",
       "encoded_Embarked_1  0.221009        -0.033194            1.000000   \n",
       "encoded_Embarked_2  0.074053         0.000543           -0.499421   \n",
       "encoded_Sex         0.131900        -0.107150           -0.074115   \n",
       "\n",
       "                    encoded_Embarked_2  encoded_Sex  \n",
       "Pclass                        0.074053     0.131900  \n",
       "Child_Indicator               0.000543    -0.107150  \n",
       "encoded_Embarked_1           -0.499421    -0.074115  \n",
       "encoded_Embarked_2            1.000000     0.119224  \n",
       "encoded_Sex                   0.119224     1.000000  "
      ]
     },
     "execution_count": 22,
     "metadata": {},
     "output_type": "execute_result"
    }
   ],
   "source": [
    "from statsmodels.stats.outliers_influence import variance_inflation_factor\n",
    "\n",
    "# the independent variables set\n",
    "x = classification_model_data[['Pclass', 'Child_Indicator',\n",
    "                               'encoded_Embarked_1', 'encoded_Embarked_2', 'encoded_Sex']]\n",
    "\n",
    "# VIF dataframe\n",
    "vif_data = pd.DataFrame()\n",
    "vif_data[\"feature\"] = x.columns\n",
    "  \n",
    "# calculating VIF for each feature\n",
    "vif_data[\"VIF\"] = [variance_inflation_factor(x.values, i)\n",
    "                          for i in range(len(x.columns))]\n",
    "  \n",
    "print(vif_data)\n",
    "x.corr()"
   ]
  },
  {
   "cell_type": "markdown",
   "id": "b0b62268",
   "metadata": {},
   "source": [
    "Using a VIF cutoff value of 5.0, there is some evidence of multicollinearity within this multiple logistic regression model with this particular set of predictors."
   ]
  },
  {
   "cell_type": "code",
   "execution_count": 23,
   "id": "8d3c0504",
   "metadata": {
    "scrolled": true
   },
   "outputs": [
    {
     "data": {
      "text/html": [
       "<div>\n",
       "<style scoped>\n",
       "    .dataframe tbody tr th:only-of-type {\n",
       "        vertical-align: middle;\n",
       "    }\n",
       "\n",
       "    .dataframe tbody tr th {\n",
       "        vertical-align: top;\n",
       "    }\n",
       "\n",
       "    .dataframe thead th {\n",
       "        text-align: right;\n",
       "    }\n",
       "</style>\n",
       "<table border=\"1\" class=\"dataframe\">\n",
       "  <thead>\n",
       "    <tr style=\"text-align: right;\">\n",
       "      <th></th>\n",
       "      <th>Pclass</th>\n",
       "      <th>Child_Indicator</th>\n",
       "      <th>encoded_Sex</th>\n",
       "      <th>encoded_Embarked_1</th>\n",
       "      <th>encoded_Embarked_2</th>\n",
       "    </tr>\n",
       "  </thead>\n",
       "  <tbody>\n",
       "    <tr>\n",
       "      <th>count</th>\n",
       "      <td>891.000000</td>\n",
       "      <td>891.000000</td>\n",
       "      <td>891.000000</td>\n",
       "      <td>891.000000</td>\n",
       "      <td>891.000000</td>\n",
       "    </tr>\n",
       "    <tr>\n",
       "      <th>mean</th>\n",
       "      <td>2.308642</td>\n",
       "      <td>0.126824</td>\n",
       "      <td>0.647587</td>\n",
       "      <td>0.086420</td>\n",
       "      <td>0.725028</td>\n",
       "    </tr>\n",
       "    <tr>\n",
       "      <th>std</th>\n",
       "      <td>0.836071</td>\n",
       "      <td>0.332962</td>\n",
       "      <td>0.477990</td>\n",
       "      <td>0.281141</td>\n",
       "      <td>0.446751</td>\n",
       "    </tr>\n",
       "    <tr>\n",
       "      <th>min</th>\n",
       "      <td>1.000000</td>\n",
       "      <td>0.000000</td>\n",
       "      <td>0.000000</td>\n",
       "      <td>0.000000</td>\n",
       "      <td>0.000000</td>\n",
       "    </tr>\n",
       "    <tr>\n",
       "      <th>25%</th>\n",
       "      <td>2.000000</td>\n",
       "      <td>0.000000</td>\n",
       "      <td>0.000000</td>\n",
       "      <td>0.000000</td>\n",
       "      <td>0.000000</td>\n",
       "    </tr>\n",
       "    <tr>\n",
       "      <th>50%</th>\n",
       "      <td>3.000000</td>\n",
       "      <td>0.000000</td>\n",
       "      <td>1.000000</td>\n",
       "      <td>0.000000</td>\n",
       "      <td>1.000000</td>\n",
       "    </tr>\n",
       "    <tr>\n",
       "      <th>75%</th>\n",
       "      <td>3.000000</td>\n",
       "      <td>0.000000</td>\n",
       "      <td>1.000000</td>\n",
       "      <td>0.000000</td>\n",
       "      <td>1.000000</td>\n",
       "    </tr>\n",
       "    <tr>\n",
       "      <th>max</th>\n",
       "      <td>3.000000</td>\n",
       "      <td>1.000000</td>\n",
       "      <td>1.000000</td>\n",
       "      <td>1.000000</td>\n",
       "      <td>1.000000</td>\n",
       "    </tr>\n",
       "  </tbody>\n",
       "</table>\n",
       "</div>"
      ],
      "text/plain": [
       "           Pclass  Child_Indicator  encoded_Sex  encoded_Embarked_1  \\\n",
       "count  891.000000       891.000000   891.000000          891.000000   \n",
       "mean     2.308642         0.126824     0.647587            0.086420   \n",
       "std      0.836071         0.332962     0.477990            0.281141   \n",
       "min      1.000000         0.000000     0.000000            0.000000   \n",
       "25%      2.000000         0.000000     0.000000            0.000000   \n",
       "50%      3.000000         0.000000     1.000000            0.000000   \n",
       "75%      3.000000         0.000000     1.000000            0.000000   \n",
       "max      3.000000         1.000000     1.000000            1.000000   \n",
       "\n",
       "       encoded_Embarked_2  \n",
       "count          891.000000  \n",
       "mean             0.725028  \n",
       "std              0.446751  \n",
       "min              0.000000  \n",
       "25%              0.000000  \n",
       "50%              1.000000  \n",
       "75%              1.000000  \n",
       "max              1.000000  "
      ]
     },
     "execution_count": 23,
     "metadata": {},
     "output_type": "execute_result"
    }
   ],
   "source": [
    "classification_model_data.describe()"
   ]
  },
  {
   "cell_type": "markdown",
   "id": "0aa92ff4",
   "metadata": {},
   "source": [
    "#### Logistic regression assumption check: linearity between continuous var (Pclass) and DV (Survived)"
   ]
  },
  {
   "cell_type": "code",
   "execution_count": 24,
   "id": "74188d74",
   "metadata": {},
   "outputs": [
    {
     "data": {
      "text/plain": [
       "['Pclass', 'Pclass:Log_Pclass']"
      ]
     },
     "execution_count": 24,
     "metadata": {},
     "output_type": "execute_result"
    },
    {
     "name": "stdout",
     "output_type": "stream",
     "text": [
      "                 Generalized Linear Model Regression Results                  \n",
      "==============================================================================\n",
      "Dep. Variable:               Survived   No. Observations:                  891\n",
      "Model:                            GLM   Df Residuals:                      888\n",
      "Model Family:                Binomial   Df Model:                            2\n",
      "Link Function:                  Logit   Scale:                          1.0000\n",
      "Method:                          IRLS   Log-Likelihood:                -541.55\n",
      "Date:                Sun, 23 Apr 2023   Deviance:                       1083.1\n",
      "Time:                        10:04:18   Pearson chi2:                     891.\n",
      "No. Iterations:                     4   Pseudo R-squ. (CS):             0.1097\n",
      "Covariance Type:            nonrobust                                         \n",
      "=====================================================================================\n",
      "                        coef    std err          z      P>|z|      [0.025      0.975]\n",
      "-------------------------------------------------------------------------------------\n",
      "Pclass                0.3979      1.099      0.362      0.717      -1.756       2.551\n",
      "Pclass:Log_Pclass    -0.7483      0.657     -1.139      0.255      -2.036       0.539\n",
      "const                 0.1327      1.171      0.113      0.910      -2.163       2.429\n",
      "=====================================================================================\n"
     ]
    },
    {
     "data": {
      "text/plain": [
       "<matplotlib.collections.PathCollection at 0x1bee74d2970>"
      ]
     },
     "execution_count": 24,
     "metadata": {},
     "output_type": "execute_result"
    },
    {
     "data": {
      "image/png": "[encoded data removed]",
      "text/plain": [
       "<Figure size 432x288 with 1 Axes>"
      ]
     },
     "metadata": {
      "needs_background": "light"
     },
     "output_type": "display_data"
    }
   ],
   "source": [
    "## import statsmodels.api as sm\n",
    "from statsmodels.genmod.generalized_linear_model import GLM\n",
    "from statsmodels.genmod import families\n",
    "\n",
    "df_titanic_lt = titanic_training_data_cleaned.copy()  # lt = logit transform\n",
    "\n",
    "# Define continuous variables\n",
    "continuous_var = ['Pclass']\n",
    "\n",
    "# Add logit transform interaction terms (natural log) for continuous variables e.g. Age * Log(Age)\n",
    "for var in continuous_var:\n",
    "    df_titanic_lt[f'{var}:Log_{var}'] = df_titanic_lt[var].apply(lambda x: x * np.log(x)) #np.log = natural log\n",
    "\n",
    "# Keep columns related to continuous variables\n",
    "cols_to_keep = continuous_var + df_titanic_lt.columns.tolist()[-len(continuous_var):]\n",
    "cols_to_keep\n",
    "\n",
    "# Redefine independent variables to include interaction terms\n",
    "X_lt = df_titanic_lt[cols_to_keep]\n",
    "y_lt = df_titanic_lt['Survived']\n",
    "\n",
    "# Add constant\n",
    "X_lt_constant = sm.add_constant(X_lt, prepend=False)\n",
    "  \n",
    "# Build model and fit the data (using statsmodel's Logit)\n",
    "logit_results = GLM(y_lt, X_lt_constant, family=families.Binomial()).fit()\n",
    "\n",
    "# Display summary results\n",
    "print(logit_results.summary())\n",
    "\n",
    "predicted = logit_results.predict(X_lt_constant)\n",
    "\n",
    "# Get log odds values\n",
    "log_odds = np.log(predicted / (1 - predicted))\n",
    "\n",
    "# Visualize predictor continuous variable vs logit values (Age)\n",
    "plt.scatter(x=X_lt_constant['Pclass'].values, y=log_odds);\n",
    "plt.show()"
   ]
  },
  {
   "cell_type": "markdown",
   "id": "7d3ee9a2",
   "metadata": {},
   "source": [
    "#### A visual inspection of this assumption:"
   ]
  },
  {
   "cell_type": "markdown",
   "id": "66e4118c",
   "metadata": {},
   "source": [
    "* We are interested in the p-values for the logit transformed interaction terms of Pclass:Log_Pclass \n",
    "* From the summary table above, the p value for Pclass:Log_Pclass is > .05, which is non-significant\n",
    "* This means that there is linearity in the PClass feature, and the assumption has been not been violated. \n",
    "* <i> Note: Pclass is treated as continuous/numerical in this model</i>"
   ]
  },
  {
   "cell_type": "markdown",
   "id": "06272e71",
   "metadata": {},
   "source": [
    "### LDA Model"
   ]
  },
  {
   "cell_type": "code",
   "execution_count": 25,
   "id": "2b19d708",
   "metadata": {},
   "outputs": [
    {
     "data": {
      "text/plain": [
       "LinearDiscriminantAnalysis()"
      ]
     },
     "execution_count": 25,
     "metadata": {},
     "output_type": "execute_result"
    },
    {
     "name": "stdout",
     "output_type": "stream",
     "text": [
      "Coefficients: [[-0.93688562  0.35078045 -1.61862964 -0.00919148 -0.24042946]]\n",
      "Means: [[ 0.26715372 -0.09647984  0.42885221 -0.00288115  0.11814043]\n",
      " [-0.42885202  0.15487553 -0.68842066  0.004625   -0.18964648]]\n",
      "Score: 0.7912457912457912\n"
     ]
    },
    {
     "data": {
      "text/plain": [
       "<sklearn.metrics._plot.confusion_matrix.ConfusionMatrixDisplay at 0x1be9b9f7b20>"
      ]
     },
     "execution_count": 25,
     "metadata": {},
     "output_type": "execute_result"
    },
    {
     "data": {
      "text/plain": [
       "Text(0.5, 1.0, 'LDA ROC Curve')"
      ]
     },
     "execution_count": 25,
     "metadata": {},
     "output_type": "execute_result"
    },
    {
     "data": {
      "text/plain": [
       "Text(0.5, 1.0, 'LDA Precision-Recall Curve')"
      ]
     },
     "execution_count": 25,
     "metadata": {},
     "output_type": "execute_result"
    },
    {
     "data": {
      "image/png": "[encoded data removed]",
      "text/plain": [
       "<Figure size 432x288 with 2 Axes>"
      ]
     },
     "metadata": {
      "needs_background": "light"
     },
     "output_type": "display_data"
    },
    {
     "data": {
      "image/png": "[encoded data removed]",
      "text/plain": [
       "<Figure size 432x288 with 1 Axes>"
      ]
     },
     "metadata": {
      "needs_background": "light"
     },
     "output_type": "display_data"
    },
    {
     "data": {
      "image/png": "[encoded data removed]",
      "text/plain": [
       "<Figure size 432x288 with 1 Axes>"
      ]
     },
     "metadata": {
      "needs_background": "light"
     },
     "output_type": "display_data"
    }
   ],
   "source": [
    "import numpy as np\n",
    "from sklearn.discriminant_analysis import LinearDiscriminantAnalysis\n",
    "from sklearn.preprocessing import StandardScaler\n",
    "scaler = StandardScaler()\n",
    "X = scaler.fit_transform(classification_model_data)\n",
    "y = Survived\n",
    "lda = LinearDiscriminantAnalysis(solver = 'svd')\n",
    "lda.fit(X, y)\n",
    "predictions = lda.predict(X)\n",
    "\n",
    "# Basic stats for LDA result\n",
    "\n",
    "print('Coefficients:',lda.coef_)\n",
    "print('Means:',lda.means_)\n",
    "print('Score:',lda.score(X,y))\n",
    "\n",
    "# Confusion matrix\n",
    "\n",
    "from sklearn.metrics import confusion_matrix, ConfusionMatrixDisplay, roc_curve\n",
    "\n",
    "cm = confusion_matrix(y, predictions)\n",
    "cm_lda = cm\n",
    "disp = ConfusionMatrixDisplay(confusion_matrix=cm, display_labels=['Did not survive','Survived'])\n",
    "disp.plot()\n",
    "\n",
    "# Curves\n",
    "\n",
    "from sklearn.metrics import RocCurveDisplay\n",
    "from sklearn.metrics import precision_recall_curve\n",
    "from sklearn.metrics import PrecisionRecallDisplay\n",
    "\n",
    "probabilities = lda.predict_proba(X)[:,1]\n",
    "\n",
    "fpr, tpr, _ = roc_curve(np.array(Survived), probabilities)\n",
    "roc_display = RocCurveDisplay(fpr=fpr, tpr=tpr).plot()\n",
    "plt.title('LDA ROC Curve')\n",
    "\n",
    "prec, recall, _ = precision_recall_curve(Survived, probabilities)\n",
    "pr_display = PrecisionRecallDisplay(precision=prec, recall=recall).plot()\n",
    "plt.title('LDA Precision-Recall Curve')"
   ]
  },
  {
   "cell_type": "markdown",
   "id": "099856df",
   "metadata": {},
   "source": [
    "### QDA Model"
   ]
  },
  {
   "cell_type": "code",
   "execution_count": 26,
   "id": "90e9ef5a",
   "metadata": {},
   "outputs": [
    {
     "data": {
      "text/plain": [
       "QuadraticDiscriminantAnalysis()"
      ]
     },
     "execution_count": 26,
     "metadata": {},
     "output_type": "execute_result"
    },
    {
     "name": "stdout",
     "output_type": "stream",
     "text": [
      "Means: [[ 0.26715372 -0.09647984  0.42885221 -0.00288115  0.11814043]\n",
      " [-0.42885202  0.15487553 -0.68842066  0.004625   -0.18964648]]\n",
      "Score: 0.7676767676767676\n"
     ]
    },
    {
     "data": {
      "text/plain": [
       "<sklearn.metrics._plot.confusion_matrix.ConfusionMatrixDisplay at 0x1bee77932b0>"
      ]
     },
     "execution_count": 26,
     "metadata": {},
     "output_type": "execute_result"
    },
    {
     "data": {
      "text/plain": [
       "Text(0.5, 1.0, 'QDA ROC Curve')"
      ]
     },
     "execution_count": 26,
     "metadata": {},
     "output_type": "execute_result"
    },
    {
     "data": {
      "text/plain": [
       "Text(0.5, 1.0, 'QDA Precision-Recall Curve')"
      ]
     },
     "execution_count": 26,
     "metadata": {},
     "output_type": "execute_result"
    },
    {
     "data": {
      "image/png": "[encoded data removed]",
      "text/plain": [
       "<Figure size 432x288 with 2 Axes>"
      ]
     },
     "metadata": {
      "needs_background": "light"
     },
     "output_type": "display_data"
    },
    {
     "data": {
      "image/png": "[encoded data removed]",
      "text/plain": [
       "<Figure size 432x288 with 1 Axes>"
      ]
     },
     "metadata": {
      "needs_background": "light"
     },
     "output_type": "display_data"
    },
    {
     "data": {
      "image/png": "[encoded data removed]",
      "text/plain": [
       "<Figure size 432x288 with 1 Axes>"
      ]
     },
     "metadata": {
      "needs_background": "light"
     },
     "output_type": "display_data"
    }
   ],
   "source": [
    "# Try with QDA (Quadratic Discriminant Analysis)\n",
    "\n",
    "from sklearn.discriminant_analysis import QuadraticDiscriminantAnalysis\n",
    "\n",
    "qda = QuadraticDiscriminantAnalysis()\n",
    "qda.fit(X, y)\n",
    "\n",
    "# Basic stats for QDA result\n",
    "\n",
    "print('Means:',qda.means_)\n",
    "print('Score:',qda.score(X,y))\n",
    "\n",
    "predictions = qda.predict(X)\n",
    "probabilities = qda.predict_proba(X)[:,1]\n",
    "\n",
    "# Confusion\n",
    "cm = confusion_matrix(y, predictions)\n",
    "cm_qda = cm\n",
    "disp = ConfusionMatrixDisplay(confusion_matrix=cm, display_labels=['Did not survive','Survived'])\n",
    "disp.plot()\n",
    "\n",
    "# Curves\n",
    "fpr, tpr, _ = roc_curve(y, probabilities)\n",
    "roc_display = RocCurveDisplay(fpr=fpr, tpr=tpr).plot()\n",
    "plt.title('QDA ROC Curve')\n",
    "\n",
    "prec, recall, _ = precision_recall_curve(y, probabilities)\n",
    "pr_display = PrecisionRecallDisplay(precision=prec, recall=recall).plot()\n",
    "plt.title('QDA Precision-Recall Curve')"
   ]
  },
  {
   "cell_type": "code",
   "execution_count": 43,
   "id": "5a2ae672",
   "metadata": {},
   "outputs": [
    {
     "name": "stdout",
     "output_type": "stream",
     "text": [
      "\n",
      "Logistic Regression\n",
      "sensitivity 0.7397660818713451\n",
      "specificity 0.8051001821493625\n",
      "recall 0.7397660818713451\n",
      "precision 0.7027777777777777\n",
      "accuracy 0.7800224466891134\n",
      "\n",
      "LINEAR DISCRIMINANT ANALYSIS\n",
      "sensitivity 0.6929824561403509\n",
      "specificity 0.8524590163934426\n",
      "recall 0.6929824561403509\n",
      "precision 0.7452830188679245\n",
      "accuracy 0.7912457912457912\n",
      "training LDA sklearn score 0.7912457912457912\n",
      "\n",
      "QUADRATIC DISCRIMINANT ANALYSIS\n",
      "sensitivity 0.7953216374269005\n",
      "specificity 0.7504553734061931\n",
      "recall 0.7953216374269005\n",
      "precision 0.6650366748166259\n",
      "accuracy 0.7676767676767676\n",
      "training QDA sklearn score 0.7676767676767676\n"
     ]
    }
   ],
   "source": [
    "# More detialed performance statistics: \n",
    "\n",
    "#Sensitivity = TP / (TP + FN) = recall  = TPR\n",
    "#Specificity = TN / (TN + FP) = TNR \n",
    "#Precision = TP / (TP + FP) = PPV\n",
    "#PPV = TP / ( TP + FP )  (sensitivity * prevalence) / ((sensitivity * prevalence) + (1-specificity) (1-prevalence))\n",
    "#NPV = TN / (TN + FN) = ((specificity * (1-prevalence)) / ( (sensitivity * (1-prevelence) + (1-specificity)(1-prevalence)) \n",
    "\n",
    "#Recall = \n",
    "#Precision = (sensitivity * prevalence) / ((sensitivity * prevalence) + (1-specificity) (1-prevalence)) = (0.93 * 0.05) / (0.93 * 0.05 + 0.02 * (1 - 0.05) ) = 0.71\n",
    "\n",
    "### QDA ###\n",
    "\n",
    "tn = cm_logistic[0,0]\n",
    "fp = cm_logistic[0,1]\n",
    "fn = cm_logistic[1,0]\n",
    "tp = cm_logistic[1,1]\n",
    "\n",
    "print('')\n",
    "print('Logistic Regression')\n",
    "print('sensitivity', tp / (tp + fn))\n",
    "print('specificity', tn / (tn + fp))\n",
    "print('recall', tp / (tp + fn))\n",
    "print('precision', tp / (tp + fp))\n",
    "print('accuracy', (tp + tn)/(tp+tn+fp+fn))\n",
    "#print('training logistic sklearn score',logit_model.score(X,y)) # using 'score' method for scikitlearn package\n",
    "\n",
    "\n",
    "\n",
    "\n",
    "### LDA ###\n",
    "\n",
    "tn = cm_lda[0,0]\n",
    "fp = cm_lda[0,1]\n",
    "fn = cm_lda[1,0]\n",
    "tp = cm_lda[1,1]\n",
    "\n",
    "print('')\n",
    "print('LINEAR DISCRIMINANT ANALYSIS')\n",
    "print('sensitivity', tp / (tp + fn))\n",
    "print('specificity', tn / (tn + fp))\n",
    "print('recall', tp / (tp + fn))\n",
    "print('precision', tp / (tp + fp))\n",
    "print('accuracy', (tp + tn)/(tp+tn+fp+fn))\n",
    "print('training LDA sklearn score',lda.score(X,y)) # using 'score' method for scikitleran package \n",
    "### QDA ###\n",
    "\n",
    "tn = cm_qda[0,0]\n",
    "fp = cm_qda[0,1]\n",
    "fn = cm_qda[1,0]\n",
    "tp = cm_qda[1,1]\n",
    "\n",
    "print('')\n",
    "print('QUADRATIC DISCRIMINANT ANALYSIS')\n",
    "print('sensitivity', tp / (tp + fn))\n",
    "print('specificity', tn / (tn + fp))\n",
    "print('recall', tp / (tp + fn))\n",
    "print('precision', tp / (tp + fp))\n",
    "print('accuracy', (tp + tn)/(tp+tn+fp+fn))\n",
    "print('training QDA sklearn score',qda.score(X,y)) # using 'score' method for scikitlearn package\n",
    "                             \n",
    "                             \n"
   ]
  },
  {
   "cell_type": "markdown",
   "id": "153c93de",
   "metadata": {},
   "source": [
    "QDA appears to have somewhat better metrics for both recall and precision, but slightly worse performance with respect to specificity. As a result, the overall 'accuracy' metric of LDA appears slightly preferablet to QDA. We also consider the 'score' method for the sklearn implementation of each model. This attribute is the "
   ]
  },
  {
   "cell_type": "markdown",
   "id": "66eb3c5d",
   "metadata": {},
   "source": [
    "### Create K-Nearest Neighbors Model"
   ]
  },
  {
   "cell_type": "markdown",
   "id": "38e24374",
   "metadata": {},
   "source": [
    "Make modifications to the training dataset that are specifically needed for a K-Nearest Neighbors model"
   ]
  },
  {
   "cell_type": "code",
   "execution_count": 31,
   "id": "936ac2a5",
   "metadata": {},
   "outputs": [
    {
     "data": {
      "text/html": [
       "<div>\n",
       "<style scoped>\n",
       "    .dataframe tbody tr th:only-of-type {\n",
       "        vertical-align: middle;\n",
       "    }\n",
       "\n",
       "    .dataframe tbody tr th {\n",
       "        vertical-align: top;\n",
       "    }\n",
       "\n",
       "    .dataframe thead th {\n",
       "        text-align: right;\n",
       "    }\n",
       "</style>\n",
       "<table border=\"1\" class=\"dataframe\">\n",
       "  <thead>\n",
       "    <tr style=\"text-align: right;\">\n",
       "      <th></th>\n",
       "      <th>PassengerId</th>\n",
       "      <th>Survived</th>\n",
       "      <th>Pclass</th>\n",
       "      <th>Name</th>\n",
       "      <th>Age</th>\n",
       "      <th>SibSp</th>\n",
       "      <th>Parch</th>\n",
       "      <th>Ticket</th>\n",
       "      <th>Fare</th>\n",
       "      <th>Embarked</th>\n",
       "      <th>Cabin_Data_Indicator</th>\n",
       "      <th>First_Cabin_Deck</th>\n",
       "      <th>Child_Indicator</th>\n",
       "      <th>encoded_Embarked</th>\n",
       "      <th>encoded_FirstCabinDeck</th>\n",
       "      <th>encoded_Sex</th>\n",
       "      <th>Sex_male</th>\n",
       "      <th>min_max_scaled_fare</th>\n",
       "      <th>min_max_scaled_Pclass</th>\n",
       "    </tr>\n",
       "  </thead>\n",
       "  <tbody>\n",
       "    <tr>\n",
       "      <th>0</th>\n",
       "      <td>1</td>\n",
       "      <td>0</td>\n",
       "      <td>3</td>\n",
       "      <td>Braund, Mr. Owen Harris</td>\n",
       "      <td>22.0</td>\n",
       "      <td>1</td>\n",
       "      <td>0</td>\n",
       "      <td>A/5 21171</td>\n",
       "      <td>7.2500</td>\n",
       "      <td>S</td>\n",
       "      <td>0</td>\n",
       "      <td>None</td>\n",
       "      <td>0</td>\n",
       "      <td>2</td>\n",
       "      <td>7</td>\n",
       "      <td>1</td>\n",
       "      <td>1</td>\n",
       "      <td>0.014151</td>\n",
       "      <td>1.0</td>\n",
       "    </tr>\n",
       "    <tr>\n",
       "      <th>1</th>\n",
       "      <td>2</td>\n",
       "      <td>1</td>\n",
       "      <td>1</td>\n",
       "      <td>Cumings, Mrs. John Bradley (Florence Briggs Th...</td>\n",
       "      <td>38.0</td>\n",
       "      <td>1</td>\n",
       "      <td>0</td>\n",
       "      <td>PC 17599</td>\n",
       "      <td>71.2833</td>\n",
       "      <td>C</td>\n",
       "      <td>1</td>\n",
       "      <td>C</td>\n",
       "      <td>0</td>\n",
       "      <td>0</td>\n",
       "      <td>2</td>\n",
       "      <td>0</td>\n",
       "      <td>0</td>\n",
       "      <td>0.139136</td>\n",
       "      <td>0.0</td>\n",
       "    </tr>\n",
       "    <tr>\n",
       "      <th>2</th>\n",
       "      <td>3</td>\n",
       "      <td>1</td>\n",
       "      <td>3</td>\n",
       "      <td>Heikkinen, Miss. Laina</td>\n",
       "      <td>26.0</td>\n",
       "      <td>0</td>\n",
       "      <td>0</td>\n",
       "      <td>STON/O2. 3101282</td>\n",
       "      <td>7.9250</td>\n",
       "      <td>S</td>\n",
       "      <td>0</td>\n",
       "      <td>None</td>\n",
       "      <td>0</td>\n",
       "      <td>2</td>\n",
       "      <td>7</td>\n",
       "      <td>0</td>\n",
       "      <td>0</td>\n",
       "      <td>0.015469</td>\n",
       "      <td>1.0</td>\n",
       "    </tr>\n",
       "    <tr>\n",
       "      <th>3</th>\n",
       "      <td>4</td>\n",
       "      <td>1</td>\n",
       "      <td>1</td>\n",
       "      <td>Futrelle, Mrs. Jacques Heath (Lily May Peel)</td>\n",
       "      <td>35.0</td>\n",
       "      <td>1</td>\n",
       "      <td>0</td>\n",
       "      <td>113803</td>\n",
       "      <td>53.1000</td>\n",
       "      <td>S</td>\n",
       "      <td>1</td>\n",
       "      <td>C</td>\n",
       "      <td>0</td>\n",
       "      <td>2</td>\n",
       "      <td>2</td>\n",
       "      <td>0</td>\n",
       "      <td>0</td>\n",
       "      <td>0.103644</td>\n",
       "      <td>0.0</td>\n",
       "    </tr>\n",
       "    <tr>\n",
       "      <th>4</th>\n",
       "      <td>5</td>\n",
       "      <td>0</td>\n",
       "      <td>3</td>\n",
       "      <td>Allen, Mr. William Henry</td>\n",
       "      <td>35.0</td>\n",
       "      <td>0</td>\n",
       "      <td>0</td>\n",
       "      <td>373450</td>\n",
       "      <td>8.0500</td>\n",
       "      <td>S</td>\n",
       "      <td>0</td>\n",
       "      <td>None</td>\n",
       "      <td>0</td>\n",
       "      <td>2</td>\n",
       "      <td>7</td>\n",
       "      <td>1</td>\n",
       "      <td>1</td>\n",
       "      <td>0.015713</td>\n",
       "      <td>1.0</td>\n",
       "    </tr>\n",
       "    <tr>\n",
       "      <th>5</th>\n",
       "      <td>6</td>\n",
       "      <td>0</td>\n",
       "      <td>3</td>\n",
       "      <td>Moran, Mr. James</td>\n",
       "      <td>28.0</td>\n",
       "      <td>0</td>\n",
       "      <td>0</td>\n",
       "      <td>330877</td>\n",
       "      <td>8.4583</td>\n",
       "      <td>Q</td>\n",
       "      <td>0</td>\n",
       "      <td>None</td>\n",
       "      <td>0</td>\n",
       "      <td>1</td>\n",
       "      <td>7</td>\n",
       "      <td>1</td>\n",
       "      <td>1</td>\n",
       "      <td>0.016510</td>\n",
       "      <td>1.0</td>\n",
       "    </tr>\n",
       "    <tr>\n",
       "      <th>6</th>\n",
       "      <td>7</td>\n",
       "      <td>0</td>\n",
       "      <td>1</td>\n",
       "      <td>McCarthy, Mr. Timothy J</td>\n",
       "      <td>54.0</td>\n",
       "      <td>0</td>\n",
       "      <td>0</td>\n",
       "      <td>17463</td>\n",
       "      <td>51.8625</td>\n",
       "      <td>S</td>\n",
       "      <td>1</td>\n",
       "      <td>E</td>\n",
       "      <td>0</td>\n",
       "      <td>2</td>\n",
       "      <td>4</td>\n",
       "      <td>1</td>\n",
       "      <td>1</td>\n",
       "      <td>0.101229</td>\n",
       "      <td>0.0</td>\n",
       "    </tr>\n",
       "    <tr>\n",
       "      <th>7</th>\n",
       "      <td>8</td>\n",
       "      <td>0</td>\n",
       "      <td>3</td>\n",
       "      <td>Palsson, Master. Gosta Leonard</td>\n",
       "      <td>2.0</td>\n",
       "      <td>3</td>\n",
       "      <td>1</td>\n",
       "      <td>349909</td>\n",
       "      <td>21.0750</td>\n",
       "      <td>S</td>\n",
       "      <td>0</td>\n",
       "      <td>None</td>\n",
       "      <td>1</td>\n",
       "      <td>2</td>\n",
       "      <td>7</td>\n",
       "      <td>1</td>\n",
       "      <td>1</td>\n",
       "      <td>0.041136</td>\n",
       "      <td>1.0</td>\n",
       "    </tr>\n",
       "    <tr>\n",
       "      <th>8</th>\n",
       "      <td>9</td>\n",
       "      <td>1</td>\n",
       "      <td>3</td>\n",
       "      <td>Johnson, Mrs. Oscar W (Elisabeth Vilhelmina Berg)</td>\n",
       "      <td>27.0</td>\n",
       "      <td>0</td>\n",
       "      <td>2</td>\n",
       "      <td>347742</td>\n",
       "      <td>11.1333</td>\n",
       "      <td>S</td>\n",
       "      <td>0</td>\n",
       "      <td>None</td>\n",
       "      <td>0</td>\n",
       "      <td>2</td>\n",
       "      <td>7</td>\n",
       "      <td>0</td>\n",
       "      <td>0</td>\n",
       "      <td>0.021731</td>\n",
       "      <td>1.0</td>\n",
       "    </tr>\n",
       "    <tr>\n",
       "      <th>9</th>\n",
       "      <td>10</td>\n",
       "      <td>1</td>\n",
       "      <td>2</td>\n",
       "      <td>Nasser, Mrs. Nicholas (Adele Achem)</td>\n",
       "      <td>14.0</td>\n",
       "      <td>1</td>\n",
       "      <td>0</td>\n",
       "      <td>237736</td>\n",
       "      <td>30.0708</td>\n",
       "      <td>C</td>\n",
       "      <td>0</td>\n",
       "      <td>None</td>\n",
       "      <td>1</td>\n",
       "      <td>0</td>\n",
       "      <td>7</td>\n",
       "      <td>0</td>\n",
       "      <td>0</td>\n",
       "      <td>0.058694</td>\n",
       "      <td>0.5</td>\n",
       "    </tr>\n",
       "  </tbody>\n",
       "</table>\n",
       "</div>"
      ],
      "text/plain": [
       "   PassengerId  Survived  Pclass  \\\n",
       "0            1         0       3   \n",
       "1            2         1       1   \n",
       "2            3         1       3   \n",
       "3            4         1       1   \n",
       "4            5         0       3   \n",
       "5            6         0       3   \n",
       "6            7         0       1   \n",
       "7            8         0       3   \n",
       "8            9         1       3   \n",
       "9           10         1       2   \n",
       "\n",
       "                                                Name   Age  SibSp  Parch  \\\n",
       "0                            Braund, Mr. Owen Harris  22.0      1      0   \n",
       "1  Cumings, Mrs. John Bradley (Florence Briggs Th...  38.0      1      0   \n",
       "2                             Heikkinen, Miss. Laina  26.0      0      0   \n",
       "3       Futrelle, Mrs. Jacques Heath (Lily May Peel)  35.0      1      0   \n",
       "4                           Allen, Mr. William Henry  35.0      0      0   \n",
       "5                                   Moran, Mr. James  28.0      0      0   \n",
       "6                            McCarthy, Mr. Timothy J  54.0      0      0   \n",
       "7                     Palsson, Master. Gosta Leonard   2.0      3      1   \n",
       "8  Johnson, Mrs. Oscar W (Elisabeth Vilhelmina Berg)  27.0      0      2   \n",
       "9                Nasser, Mrs. Nicholas (Adele Achem)  14.0      1      0   \n",
       "\n",
       "             Ticket     Fare Embarked  Cabin_Data_Indicator First_Cabin_Deck  \\\n",
       "0         A/5 21171   7.2500        S                     0             None   \n",
       "1          PC 17599  71.2833        C                     1                C   \n",
       "2  STON/O2. 3101282   7.9250        S                     0             None   \n",
       "3            113803  53.1000        S                     1                C   \n",
       "4            373450   8.0500        S                     0             None   \n",
       "5            330877   8.4583        Q                     0             None   \n",
       "6             17463  51.8625        S                     1                E   \n",
       "7            349909  21.0750        S                     0             None   \n",
       "8            347742  11.1333        S                     0             None   \n",
       "9            237736  30.0708        C                     0             None   \n",
       "\n",
       "   Child_Indicator  encoded_Embarked  encoded_FirstCabinDeck  encoded_Sex  \\\n",
       "0                0                 2                       7            1   \n",
       "1                0                 0                       2            0   \n",
       "2                0                 2                       7            0   \n",
       "3                0                 2                       2            0   \n",
       "4                0                 2                       7            1   \n",
       "5                0                 1                       7            1   \n",
       "6                0                 2                       4            1   \n",
       "7                1                 2                       7            1   \n",
       "8                0                 2                       7            0   \n",
       "9                1                 0                       7            0   \n",
       "\n",
       "   Sex_male  min_max_scaled_fare  min_max_scaled_Pclass  \n",
       "0         1             0.014151                    1.0  \n",
       "1         0             0.139136                    0.0  \n",
       "2         0             0.015469                    1.0  \n",
       "3         0             0.103644                    0.0  \n",
       "4         1             0.015713                    1.0  \n",
       "5         1             0.016510                    1.0  \n",
       "6         1             0.101229                    0.0  \n",
       "7         1             0.041136                    1.0  \n",
       "8         0             0.021731                    1.0  \n",
       "9         0             0.058694                    0.5  "
      ]
     },
     "execution_count": 31,
     "metadata": {},
     "output_type": "execute_result"
    },
    {
     "data": {
      "text/plain": [
       "count    891.000000\n",
       "mean       0.062858\n",
       "std        0.096995\n",
       "min        0.000000\n",
       "25%        0.015440\n",
       "50%        0.028213\n",
       "75%        0.060508\n",
       "max        1.000000\n",
       "Name: min_max_scaled_fare, dtype: float64"
      ]
     },
     "execution_count": 31,
     "metadata": {},
     "output_type": "execute_result"
    },
    {
     "data": {
      "text/plain": [
       "count    891.000000\n",
       "mean       0.654321\n",
       "std        0.418036\n",
       "min        0.000000\n",
       "25%        0.500000\n",
       "50%        1.000000\n",
       "75%        1.000000\n",
       "max        1.000000\n",
       "Name: min_max_scaled_Pclass, dtype: float64"
      ]
     },
     "execution_count": 31,
     "metadata": {},
     "output_type": "execute_result"
    }
   ],
   "source": [
    "# Create a new training dataframe specifically for the KNN model so that we don't interfere with the training dataset\n",
    "# used for other models\n",
    "knn_training_validation_df = titanic_training_data_cleaned.copy(deep=True)\n",
    "\n",
    "# dummy encode the Sex and PClass variables\n",
    "knn_training_validation_df = pd.get_dummies(knn_training_validation_df, columns=['Sex'], drop_first=True)\n",
    "\n",
    "# Apply Min-Max Scaling to the Fare variable\n",
    "import os\n",
    "from sklearn.preprocessing import MinMaxScaler\n",
    " \n",
    "min_max_scaler = MinMaxScaler()\n",
    " \n",
    "knn_training_validation_df[['min_max_scaled_fare']] = min_max_scaler.fit_transform(knn_training_validation_df[['Fare']])\n",
    "knn_training_validation_df[['min_max_scaled_Pclass']] = min_max_scaler.fit_transform(knn_training_validation_df[['Pclass']])\n",
    "\n",
    "# show first five rows of the data\n",
    "knn_training_validation_df.head(10)\n",
    "\n",
    "# Check that min-max scaling applied to the fare variable correctly\n",
    "knn_training_validation_df['min_max_scaled_fare'].describe()\n",
    "knn_training_validation_df['min_max_scaled_Pclass'].describe()\n"
   ]
  },
  {
   "cell_type": "code",
   "execution_count": 32,
   "id": "8aa35ffc",
   "metadata": {},
   "outputs": [
    {
     "data": {
      "text/plain": [
       "<seaborn.axisgrid.FacetGrid at 0x1bee784dcd0>"
      ]
     },
     "execution_count": 32,
     "metadata": {},
     "output_type": "execute_result"
    },
    {
     "data": {
      "image/png": "[encoded data removed]",
      "text/plain": [
       "<Figure size 360x360 with 1 Axes>"
      ]
     },
     "metadata": {
      "needs_background": "light"
     },
     "output_type": "display_data"
    }
   ],
   "source": [
    "# Create visualizations for the distributions for each of our new variables\n",
    "\n",
    "# New Indicator Variable Visualizations - Sex_male\n",
    "sns.catplot(x = 'Sex_male', kind = 'count', data = knn_training_validation_df)\n"
   ]
  },
  {
   "cell_type": "code",
   "execution_count": 33,
   "id": "d9e706b7",
   "metadata": {},
   "outputs": [
    {
     "data": {
      "text/plain": [
       "<Axes: >"
      ]
     },
     "execution_count": 33,
     "metadata": {},
     "output_type": "execute_result"
    },
    {
     "data": {
      "image/png": "[encoded data removed]",
      "text/plain": [
       "<Figure size 1080x720 with 1 Axes>"
      ]
     },
     "metadata": {
      "needs_background": "light"
     },
     "output_type": "display_data"
    }
   ],
   "source": [
    "# New Numeric Variable Visualizations - Min_Max_Scaled_Fare\n",
    "knn_training_validation_df['min_max_scaled_fare'].hist(edgecolor = 'black', \n",
    "                                             bins = 15, figsize = (15, 10),\n",
    "                                             grid = False)\n"
   ]
  },
  {
   "cell_type": "code",
   "execution_count": 34,
   "id": "84b7c895",
   "metadata": {},
   "outputs": [
    {
     "data": {
      "text/plain": [
       "<Axes: >"
      ]
     },
     "execution_count": 34,
     "metadata": {},
     "output_type": "execute_result"
    },
    {
     "data": {
      "image/png": "[encoded data removed]",
      "text/plain": [
       "<Figure size 1080x720 with 1 Axes>"
      ]
     },
     "metadata": {
      "needs_background": "light"
     },
     "output_type": "display_data"
    }
   ],
   "source": [
    "# New Numeric Variable Visualizations - Min_Max_Scaled_Pclass\n",
    "knn_training_validation_df['min_max_scaled_Pclass'].hist(edgecolor = 'black', \n",
    "                                             bins = 15, figsize = (15, 10),\n",
    "                                             grid = False)"
   ]
  },
  {
   "cell_type": "markdown",
   "id": "1a2befda",
   "metadata": {},
   "source": [
    "Split the KNN training/validation dataframe into two training and validation dataframes (which will better enable us to tune hyperparameters later)."
   ]
  },
  {
   "cell_type": "code",
   "execution_count": 35,
   "id": "e7e866c7",
   "metadata": {},
   "outputs": [
    {
     "data": {
      "text/plain": [
       "GridSearchCV(estimator=KNeighborsRegressor(),\n",
       "             param_grid={'n_neighbors': range(1, 50),\n",
       "                         'weights': ['uniform', 'distance']})"
      ]
     },
     "execution_count": 35,
     "metadata": {},
     "output_type": "execute_result"
    },
    {
     "data": {
      "text/plain": [
       "GridSearchCV(estimator=KNeighborsRegressor(),\n",
       "             param_grid={'n_neighbors': range(1, 50),\n",
       "                         'weights': ['uniform', 'distance']})"
      ]
     },
     "execution_count": 35,
     "metadata": {},
     "output_type": "execute_result"
    },
    {
     "name": "stdout",
     "output_type": "stream",
     "text": [
      "The optimal value of k is 12.\n",
      "The optimal way of assigning weights in the knn model is via the uniform method.\n"
     ]
    }
   ],
   "source": [
    "from sklearn.model_selection import GridSearchCV\n",
    "from sklearn.metrics import mean_squared_error\n",
    "from math import sqrt\n",
    "from sklearn.model_selection import train_test_split\n",
    "from sklearn.neighbors import KNeighborsRegressor\n",
    "\n",
    "# Split Kaggle's Training dataframe into training and validation dataframes\n",
    "knn_training_validation_x = knn_training_validation_df.drop(columns=['PassengerId', \n",
    "                                                                     'Survived',\n",
    "                                                                    'Pclass',\n",
    "                                                                    'Name',\n",
    "                                                                    'Age',\n",
    "                                                                    'SibSp',\n",
    "                                                                    'Parch',\n",
    "                                                                    'Ticket',\n",
    "                                                                    'Fare',\n",
    "                                                                    'Embarked',\n",
    "                                                                    'First_Cabin_Deck'])\n",
    "knn_training_validation_y = knn_training_validation_df['Survived']\n",
    "\n",
    "X_train_knn, X_validation_knn, y_train_knn, y_validation_knn = train_test_split(knn_training_validation_x,\n",
    "                                                                                knn_training_validation_y,\n",
    "                                                                                test_size=0.2, \n",
    "                                                                                random_state=1)\n",
    "\n",
    "# Fit a K-Nearest Neighbors Model to the Training Dataframe \n",
    "# Use the validation dataframe to tune the hyperparameters in such a way that we find the best values for K and for \n",
    "# model weights.\n",
    "\n",
    "parameters = {\n",
    "     \"n_neighbors\": range(1, 50),\n",
    "     \"weights\": [\"uniform\", \"distance\"],\n",
    " }\n",
    "\n",
    "gridsearch = GridSearchCV(KNeighborsRegressor(), parameters)\n",
    "gridsearch.fit(X_train_knn, y_train_knn)\n",
    "GridSearchCV(estimator=KNeighborsRegressor(),\n",
    "             param_grid={'n_neighbors': range(1, 50),\n",
    "                         'weights': ['uniform', 'distance']})\n",
    "\n",
    "knn_optimal_weights_method = gridsearch.best_params_[\"weights\"]\n",
    "\n",
    "knn_optimal_k = gridsearch.best_params_[\"n_neighbors\"]\n",
    "\n",
    "print(f\"The optimal value of k is {knn_optimal_k}.\")\n",
    "\n",
    "print(f\"The optimal way of assigning weights in the knn model is via the {knn_optimal_weights_method} method.\")\n",
    "\n",
    "\n"
   ]
  },
  {
   "cell_type": "code",
   "execution_count": 36,
   "id": "e6a98b48",
   "metadata": {},
   "outputs": [
    {
     "data": {
      "text/plain": [
       "{'n_neighbors': 12, 'weights': 'uniform'}"
      ]
     },
     "execution_count": 36,
     "metadata": {},
     "output_type": "execute_result"
    },
    {
     "name": "stdout",
     "output_type": "stream",
     "text": [
      "After applying the optimal KNN model to the validation dataset, the root mean squared error of the predictions is 0.4012.\n"
     ]
    }
   ],
   "source": [
    "{'n_neighbors': knn_optimal_k, 'weights': knn_optimal_weights_method}\n",
    "validation_preds_grid = gridsearch.predict(X_validation_knn)\n",
    "validation_mse = mean_squared_error(y_validation_knn, validation_preds_grid)\n",
    "validation_rmse = sqrt(validation_mse)\n",
    "\n",
    "print(f\"After applying the optimal KNN model to the validation dataset, the root mean squared error of the predictions is {validation_rmse:.4f}.\")\n"
   ]
  },
  {
   "cell_type": "markdown",
   "id": "f27dab78",
   "metadata": {},
   "source": [
    "Create a Receiving Operating Characteristic (ROC) Curve using the data from the validation dataset"
   ]
  },
  {
   "cell_type": "code",
   "execution_count": 37,
   "id": "366a33d3",
   "metadata": {},
   "outputs": [
    {
     "data": {
      "text/plain": [
       "[<matplotlib.lines.Line2D at 0x1bee7fd4760>]"
      ]
     },
     "execution_count": 37,
     "metadata": {},
     "output_type": "execute_result"
    },
    {
     "data": {
      "text/plain": [
       "Text(0.5, 1.0, 'ROC Curve')"
      ]
     },
     "execution_count": 37,
     "metadata": {},
     "output_type": "execute_result"
    },
    {
     "data": {
      "text/plain": [
       "Text(0.5, 0, 'False Positive Rate')"
      ]
     },
     "execution_count": 37,
     "metadata": {},
     "output_type": "execute_result"
    },
    {
     "data": {
      "text/plain": [
       "Text(0, 0.5, 'Sensitivity')"
      ]
     },
     "execution_count": 37,
     "metadata": {},
     "output_type": "execute_result"
    },
    {
     "data": {
      "image/png": "[encoded data removed]",
      "text/plain": [
       "<Figure size 576x576 with 1 Axes>"
      ]
     },
     "metadata": {
      "needs_background": "light"
     },
     "output_type": "display_data"
    }
   ],
   "source": [
    "from matplotlib import rcParams\n",
    "\n",
    "validation_df_knn = X_validation_knn.join(y_validation_knn)\n",
    "validation_df_knn['knn_prediction'] = validation_preds_grid.tolist()\n",
    "\n",
    "rcParams['figure.figsize'] = 8, 8\n",
    "\n",
    "Survived = validation_df_knn[validation_df_knn[\"Survived\"].isin([1])]\n",
    "Died = validation_df_knn[validation_df_knn[\"Survived\"].isin([0])]\n",
    "\n",
    "Survived_Count = Survived.shape[0]\n",
    "Died_Count = Died.shape[0]\n",
    "\n",
    "Prediction_Cutoff = np.arange(0, 1, 0.01).tolist()\n",
    "Cutoff_df = pd.DataFrame(Prediction_Cutoff, columns=['Prediction_Cutoff'])\n",
    "\n",
    "Sensitivity_List = []\n",
    "False_Positive_List = []\n",
    "Precision_List = []\n",
    "\n",
    "\n",
    "for pc in Cutoff_df['Prediction_Cutoff']:\n",
    "    true_positive_count = (Survived['knn_prediction'] >= pc).sum()\n",
    "    Sensitivity_List.append(true_positive_count / Survived_Count)\n",
    "    false_positive_count = (Died['knn_prediction'] >= pc).sum()\n",
    "    False_Positive_List.append(false_positive_count / Died_Count)\n",
    "    Precision_List.append(true_positive_count / (true_positive_count + false_positive_count))     \n",
    "\n",
    "Cutoff_df['Sensitivity'] = Sensitivity_List\n",
    "Cutoff_df['False Positive Rate'] = False_Positive_List\n",
    "Cutoff_df['Precision'] = Precision_List\n",
    "\n",
    "fig, ax = plt.subplots()\n",
    "ax.plot(Cutoff_df['False Positive Rate'], Cutoff_df['Sensitivity'], 'red')\n",
    "ax.set_title('ROC Curve', fontsize = 15)\n",
    "ax.set_xlabel('False Positive Rate', fontsize = 15)\n",
    "ax.set_ylabel('Sensitivity', fontsize = 15)\n",
    "\n",
    "plt.tick_params(axis='both', which='major', labelsize=12)"
   ]
  },
  {
   "cell_type": "markdown",
   "id": "f08000c5",
   "metadata": {},
   "source": [
    "Create a Precision - Recall Curve using the data from the validation dataset"
   ]
  },
  {
   "cell_type": "code",
   "execution_count": 38,
   "id": "32bc67d7",
   "metadata": {},
   "outputs": [
    {
     "data": {
      "text/plain": [
       "[<matplotlib.lines.Line2D at 0x1bee822ee50>]"
      ]
     },
     "execution_count": 38,
     "metadata": {},
     "output_type": "execute_result"
    },
    {
     "data": {
      "text/plain": [
       "Text(0.5, 1.0, 'Precision - Recall Curve')"
      ]
     },
     "execution_count": 38,
     "metadata": {},
     "output_type": "execute_result"
    },
    {
     "data": {
      "text/plain": [
       "Text(0.5, 0, 'Recall')"
      ]
     },
     "execution_count": 38,
     "metadata": {},
     "output_type": "execute_result"
    },
    {
     "data": {
      "text/plain": [
       "Text(0, 0.5, 'Precision')"
      ]
     },
     "execution_count": 38,
     "metadata": {},
     "output_type": "execute_result"
    },
    {
     "data": {
      "image/png": "[encoded data removed]",
      "text/plain": [
       "<Figure size 576x576 with 1 Axes>"
      ]
     },
     "metadata": {
      "needs_background": "light"
     },
     "output_type": "display_data"
    }
   ],
   "source": [
    "fig, ax = plt.subplots()\n",
    "ax.plot(Cutoff_df['Sensitivity'], Cutoff_df['Precision'], 'red')\n",
    "ax.set_title('Precision - Recall Curve', fontsize = 15)\n",
    "ax.set_xlabel('Recall', fontsize = 15)\n",
    "ax.set_ylabel('Precision', fontsize = 15)\n",
    "\n",
    "plt.tick_params(axis='both', which='major', labelsize=12)"
   ]
  },
  {
   "cell_type": "markdown",
   "id": "aa397063",
   "metadata": {},
   "source": [
    "Find the cutoff value that maximizes the percent of the validation dataset assigned accurate predictions"
   ]
  },
  {
   "cell_type": "code",
   "execution_count": 39,
   "id": "64a73ba3",
   "metadata": {},
   "outputs": [
    {
     "name": "stdout",
     "output_type": "stream",
     "text": [
      "The optimal cutoff boundary for predicting survivals for this model is 0.2950.\n"
     ]
    }
   ],
   "source": [
    "Cutoff_df['Specificity'] = 1 - Cutoff_df['False Positive Rate'] \n",
    "Cutoff_df['Percent_Correctly_Predicted_In_Validation_DF'] = ( ( Survived.shape[0] * Cutoff_df['Specificity'] ) + (Died.shape[0] * Cutoff_df['Sensitivity']) ) / (Survived.shape[0] + Died.shape[0] )\n",
    "\n",
    "KNN_Cutoff_Shortlist_df = Cutoff_df[Cutoff_df.Percent_Correctly_Predicted_In_Validation_DF == Cutoff_df.Percent_Correctly_Predicted_In_Validation_DF.max()]\n",
    "\n",
    "Optimal_KNN_Cutoff = KNN_Cutoff_Shortlist_df['Prediction_Cutoff'].median()\n",
    "\n",
    "print(f\"The optimal cutoff boundary for predicting survivals for this model is {Optimal_KNN_Cutoff:.4f}.\")"
   ]
  },
  {
   "cell_type": "markdown",
   "id": "52193698",
   "metadata": {},
   "source": [
    "### Import and Clean Testing Dataset"
   ]
  },
  {
   "cell_type": "markdown",
   "id": "22f1106b",
   "metadata": {},
   "source": [
    "Import the Titanic Testing Dataset"
   ]
  },
  {
   "cell_type": "code",
   "execution_count": null,
   "id": "54bc31a4",
   "metadata": {},
   "outputs": [],
   "source": [
    "import pandas as pd\n",
    "titanic_testing_data = pd.read_csv('test.csv')\n",
    "\n",
    "# show first five rows of the data\n",
    "titanic_testing_data.head(100)\n",
    "# show number of columns and rows\n",
    "titanic_testing_data.shape"
   ]
  },
  {
   "cell_type": "markdown",
   "id": "cde58800",
   "metadata": {},
   "source": [
    "Check the testing dataset for missing values"
   ]
  },
  {
   "cell_type": "code",
   "execution_count": null,
   "id": "fda5b275",
   "metadata": {},
   "outputs": [],
   "source": [
    "# find null counts, percentage of null values, and column type\n",
    "null_count = titanic_testing_data.isnull().sum()\n",
    "null_percentage = titanic_testing_data.isnull().sum() * 100 / len(titanic_testing_data)\n",
    "column_type = titanic_testing_data.dtypes\n",
    "\n",
    "# show null counts, percentage of null values, and column type for columns with more than one Null value\n",
    "null_summary = pd.concat([null_count, null_percentage, column_type], axis=1, keys=['Missing Count', 'Percentage Missing','Column Type'])\n",
    "null_summary_only_missing = null_summary[null_count != 0].sort_values('Percentage Missing',ascending=False)\n",
    "null_summary_only_missing"
   ]
  },
  {
   "cell_type": "markdown",
   "id": "b2ebc68c",
   "metadata": {},
   "source": [
    "Appropriately address the missing values in the testing dataframe.  Add the newly created variables as well to the testing dataframe."
   ]
  },
  {
   "cell_type": "code",
   "execution_count": null,
   "id": "cc05abd2",
   "metadata": {},
   "outputs": [],
   "source": [
    "# Create a new dataframe called titanic_training_data_cleaned so we don't modify the originally imported data\n",
    "titanic_testing_data_cleaned = titanic_testing_data.copy(deep=True)\n",
    "\n",
    "# change Null for Fare with the median value from the Training dataset\n",
    "titanic_testing_data_cleaned['Fare'].fillna(titanic_training_data_cleaned['Fare'].median(), inplace=True)\n",
    "\n",
    "# fill Nulls for Age with median value from the Training dataset\n",
    "titanic_testing_data_cleaned['Age'].fillna(titanic_training_data_cleaned['Age'].median(), inplace=True)\n",
    "\n",
    "# Create new cabin-related variables that will be more useful and cleaner than the original cabin variable\n",
    "titanic_testing_data_cleaned['Cabin_Data_Indicator'] = titanic_testing_data_cleaned['Cabin'].notna().astype(int)\n",
    "\n",
    "titanic_testing_data_cleaned['First_Cabin_Deck'] = np.where(titanic_testing_data_cleaned['Cabin_Data_Indicator'] == 1,\n",
    "                                                             titanic_testing_data_cleaned['Cabin'].astype(str).str[0],\n",
    "                                                             'None')\n",
    "\n",
    "# Create a new variable indicating whether a passenger is a child\n",
    "titanic_testing_data_cleaned['Child_Indicator'] = titanic_testing_data_cleaned['Age'] <= 17\n",
    "titanic_testing_data_cleaned['Child_Indicator'] = titanic_testing_data_cleaned['Child_Indicator'].astype(int)\n",
    "\n",
    "# Drop the original Cabin variable since it has so many null values and since some passengers had more than one cabin\n",
    "# making the original variable difficult to work with\n",
    "titanic_testing_data_cleaned.drop(['Cabin'],axis=1,inplace=True)\n",
    "\n"
   ]
  },
  {
   "cell_type": "markdown",
   "id": "ce713230",
   "metadata": {},
   "source": [
    "Examine whether the desired modifications to the testing dataframe applied correctly."
   ]
  },
  {
   "cell_type": "code",
   "execution_count": null,
   "id": "9fd78d32",
   "metadata": {},
   "outputs": [],
   "source": [
    "# show first five rows of the data\n",
    "titanic_training_data_cleaned.head(20)\n",
    "# show number of columns and rows\n",
    "titanic_training_data_cleaned.shape"
   ]
  },
  {
   "cell_type": "code",
   "execution_count": null,
   "id": "bb144773",
   "metadata": {},
   "outputs": [],
   "source": [
    "# find null counts, percentage of null values, and column type\n",
    "null_count = titanic_training_data_cleaned.isnull().sum()\n",
    "null_percentage = titanic_training_data_cleaned.isnull().sum() * 100 / len(titanic_training_data)\n",
    "column_type = titanic_training_data_cleaned.dtypes\n",
    "\n",
    "# show null counts, percentage of null values, and column type for columns with more than one Null value\n",
    "null_summary = pd.concat([null_count, null_percentage, column_type], axis=1, keys=['Missing Count', 'Percentage Missing','Column Type'])\n",
    "null_summary_only_missing = null_summary[null_count != 0].sort_values('Percentage Missing',ascending=False)\n",
    "null_summary_only_missing"
   ]
  },
  {
   "cell_type": "markdown",
   "id": "2540f35a",
   "metadata": {},
   "source": [
    "Conduct exploratory data analysis on the variables in the testing dataframe to confirm that all the values appear to be reasonable (to proactively address data value errors if needed)."
   ]
  },
  {
   "cell_type": "code",
   "execution_count": null,
   "id": "52796f3f",
   "metadata": {},
   "outputs": [],
   "source": [
    "# Numeric Variable Visualizations\n",
    "titanic_testing_data_cleaned[numeric_variables].describe()\n",
    "\n",
    "titanic_testing_data_cleaned[numeric_variables].hist(edgecolor = 'black', \n",
    "                                             bins = 15, figsize = (15, 10),\n",
    "                                             layout = (2, 2), grid = False)\n",
    "\n",
    "\n",
    "    \n",
    "# Categorical Variable Visualizations\n",
    "fig, ax = plt.subplots(2, 2, figsize = (15, 15))\n",
    "for var, subplot in zip(categorical_variables, ax.flatten()):\n",
    "    titanic_testing_data_cleaned[var].value_counts().plot(kind = 'bar', ax = subplot, title = var)\n",
    "\n",
    "fig.tight_layout()"
   ]
  },
  {
   "cell_type": "code",
   "execution_count": null,
   "id": "2b303e95",
   "metadata": {},
   "outputs": [],
   "source": [
    "# Indicator Variable Visualizations\n",
    "indicator_predictors = ['Cabin_Data_Indicator', 'Child_Indicator']\n",
    "\n",
    "\n",
    "for var, subplot in zip(indicator_predictors, ax.flatten()):\n",
    "    sns.catplot(x = var, kind = 'count', data = titanic_testing_data_cleaned)\n",
    "\n",
    "fig.tight_layout()"
   ]
  },
  {
   "cell_type": "markdown",
   "id": "e84e5fe7",
   "metadata": {},
   "source": [
    "### Apply K-Nearest Neighbors Model to the Testing Dataset"
   ]
  },
  {
   "cell_type": "markdown",
   "id": "036f0f2c",
   "metadata": {},
   "source": [
    "Adjust the testing dataset to reflect the modifications made to the KNN training dataset"
   ]
  },
  {
   "cell_type": "code",
   "execution_count": null,
   "id": "3d3ab92b",
   "metadata": {},
   "outputs": [],
   "source": [
    "# Create a new training dataframe specifically for the KNN model so that we don't interfere with the training dataset\n",
    "# used for other models\n",
    "knn_testing_df = titanic_testing_data_cleaned.copy(deep=True)\n",
    "\n",
    "# dummy encode the Sex and PClass variables\n",
    "knn_testing_df = pd.get_dummies(knn_testing_df, columns=['Sex'], drop_first=True)\n",
    "\n",
    "# Apply Min-Max Scaling to the Fare variable\n",
    "\n",
    "min_max_scaler = MinMaxScaler()\n",
    " \n",
    "knn_testing_df[['min_max_scaled_fare']] = min_max_scaler.fit_transform(knn_testing_df[['Fare']])\n",
    "knn_testing_df[['min_max_scaled_Pclass']] = min_max_scaler.fit_transform(knn_testing_df[['Pclass']])\n",
    "\n",
    "\n",
    "# show first five rows of the data\n",
    "knn_testing_df.head(10)\n",
    "\n",
    "# Check that min-max scaling applied to the fare variable correctly\n",
    "knn_testing_df['min_max_scaled_fare'].describe()\n",
    "knn_testing_df['min_max_scaled_Pclass'].describe()"
   ]
  },
  {
   "cell_type": "code",
   "execution_count": null,
   "id": "2ba37a78",
   "metadata": {},
   "outputs": [],
   "source": [
    "# Create visualizations for the distributions for each of our new variables\n",
    "\n",
    "# New Indicator Variable Visualizations\n",
    "sns.catplot(x = 'Sex_male', kind = 'count', data = knn_testing_df)\n",
    "\n"
   ]
  },
  {
   "cell_type": "code",
   "execution_count": null,
   "id": "986500c8",
   "metadata": {},
   "outputs": [],
   "source": [
    "# New Numeric Variable Visualizations - min_max_scaled_fare\n",
    "knn_testing_df['min_max_scaled_fare'].hist(edgecolor = 'black', \n",
    "                                             bins = 15, figsize = (15, 10),\n",
    "                                             grid = False)\n",
    "\n"
   ]
  },
  {
   "cell_type": "code",
   "execution_count": null,
   "id": "b7bafbdb",
   "metadata": {},
   "outputs": [],
   "source": [
    "# New Numeric Variable Visualizations - min_max_scaled_pclass\n",
    "knn_testing_df['min_max_scaled_Pclass'].hist(edgecolor = 'black', \n",
    "                                             bins = 15, figsize = (15, 10),\n",
    "                                             grid = False)"
   ]
  },
  {
   "cell_type": "markdown",
   "id": "dec5c1e5",
   "metadata": {},
   "source": [
    "Apply the K Nearest Neighbors Model to the Testing Dataset"
   ]
  },
  {
   "cell_type": "code",
   "execution_count": null,
   "id": "f2ec5231",
   "metadata": {},
   "outputs": [],
   "source": [
    "# Apply the K - Nearest Model to Elicit Predictions For Testing Dataset\n",
    "knn_testing_x = knn_testing_df.drop(columns=['PassengerId', \n",
    "                                            'Pclass',\n",
    "                                            'Name',\n",
    "                                            'Age',\n",
    "                                            'SibSp',\n",
    "                                            'Parch',\n",
    "                                            'Ticket',\n",
    "                                            'Fare',\n",
    "                                            'Embarked',\n",
    "                                            'First_Cabin_Deck'])\n",
    "\n",
    "knn_testing_preds_grid = gridsearch.predict(knn_testing_x)\n",
    "\n",
    "# Put the KNN predictions into a Pandas dataframe\n",
    "prediction_df_knn = pd.DataFrame(knn_testing_preds_grid, columns=['KNN_Prediction'])\n",
    "\n",
    "\n",
    "# Add the PassengerId column to the front of the KNN predictions dataframe\n",
    "prediction_df_knn.insert(0, 'PassengerId', knn_testing_df['PassengerId'])\n",
    "\n",
    "# Use the Optimal Cutoff Boundary Determined Earlier to Turn Predictions into zeros and ones\n",
    "prediction_df_knn['Survived'] = np.where(prediction_df_knn['KNN_Prediction'] >= Optimal_KNN_Cutoff, 1, 0)\n",
    "\n",
    "# Drop the KNN_Prediction Column\n",
    "prediction_df_knn.drop(['KNN_Prediction'],axis=1,inplace=True)\n",
    "\n",
    "#output predictions to csv\n",
    "prediction_df_knn.to_csv('test_predictions_knn_v1.csv', index=False)\n",
    "\n"
   ]
  },
  {
   "cell_type": "markdown",
   "id": "b3add84d",
   "metadata": {},
   "source": [
    "Display the kaggle results associated with the K-Nearest Neighbors Model"
   ]
  },
  {
   "cell_type": "code",
   "execution_count": null,
   "id": "137dc7d2",
   "metadata": {},
   "outputs": [],
   "source": [
    "# Display the kaggle results associated with the Lasso Regression Model\n",
    "plt.figure(figsize = (15, 15))\n",
    "kaggle_results = plt.imread('Titanic_KNN_Kaggle_Results_v1.jpg')\n",
    "plt.imshow(kaggle_results)\n",
    "plt.axis(\"off\")\n",
    "plt.show()"
   ]
  },
  {
   "cell_type": "code",
   "execution_count": null,
   "id": "78e0101d",
   "metadata": {},
   "outputs": [],
   "source": []
  }
 ],
 "metadata": {
  "kernelspec": {
   "display_name": "Python 3 (ipykernel)",
   "language": "python",
   "name": "python3"
  },
  "language_info": {
   "codemirror_mode": {
    "name": "ipython",
    "version": 3
   },
   "file_extension": ".py",
   "mimetype": "text/x-python",
   "name": "python",
   "nbconvert_exporter": "python",
   "pygments_lexer": "ipython3",
   "version": "3.9.13"
  }
 },
 "nbformat": 4,
 "nbformat_minor": 5
}
